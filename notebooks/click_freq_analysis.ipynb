{
 "cells": [
  {
   "cell_type": "code",
   "execution_count": null,
   "metadata": {},
   "outputs": [
    {
     "name": "stdout",
     "output_type": "stream",
     "text": [
      "(1254243, 6)\n"
     ]
    },
    {
     "data": {
      "text/html": [
       "<div>\n",
       "<style scoped>\n",
       "    .dataframe tbody tr th:only-of-type {\n",
       "        vertical-align: middle;\n",
       "    }\n",
       "\n",
       "    .dataframe tbody tr th {\n",
       "        vertical-align: top;\n",
       "    }\n",
       "\n",
       "    .dataframe thead th {\n",
       "        text-align: right;\n",
       "    }\n",
       "</style>\n",
       "<table border=\"1\" class=\"dataframe\">\n",
       "  <thead>\n",
       "    <tr style=\"text-align: right;\">\n",
       "      <th></th>\n",
       "      <th>CLNT_RMT_IP</th>\n",
       "      <th>ROI_CLICK_EVENT_TS</th>\n",
       "      <th>BRWSR_NAME</th>\n",
       "      <th>ams_pblshr_id</th>\n",
       "      <th>buyer_id</th>\n",
       "      <th>click_id</th>\n",
       "    </tr>\n",
       "  </thead>\n",
       "  <tbody>\n",
       "    <tr>\n",
       "      <th>0</th>\n",
       "      <td>77.111.247.168</td>\n",
       "      <td>2020-08-02 18:37:01</td>\n",
       "      <td>Mozilla/5.0 (Windows NT 10.0; Win64; x64) Appl...</td>\n",
       "      <td>5574672411</td>\n",
       "      <td>valen_949</td>\n",
       "      <td>209245484389035777</td>\n",
       "    </tr>\n",
       "    <tr>\n",
       "      <th>1</th>\n",
       "      <td>66.249.73.101</td>\n",
       "      <td>2020-08-21 03:36:38</td>\n",
       "      <td>Mozilla/5.0 (Windows NT 10.0; Win64; x64) Appl...</td>\n",
       "      <td>5574672411</td>\n",
       "      <td>morbanisaf</td>\n",
       "      <td>209453736892211586</td>\n",
       "    </tr>\n",
       "    <tr>\n",
       "      <th>2</th>\n",
       "      <td>77.111.247.129</td>\n",
       "      <td>2020-08-21 03:36:38</td>\n",
       "      <td>Mozilla/5.0 (Windows NT 10.0; Win64; x64) Appl...</td>\n",
       "      <td>5574672411</td>\n",
       "      <td>morbanisaf</td>\n",
       "      <td>209453736892211586</td>\n",
       "    </tr>\n",
       "    <tr>\n",
       "      <th>3</th>\n",
       "      <td>66.249.73.101</td>\n",
       "      <td>2020-08-21 03:36:33</td>\n",
       "      <td>Mozilla/5.0 (Windows NT 10.0; Win64; x64) Appl...</td>\n",
       "      <td>5574672411</td>\n",
       "      <td>morbanisaf</td>\n",
       "      <td>209453736892211586</td>\n",
       "    </tr>\n",
       "    <tr>\n",
       "      <th>4</th>\n",
       "      <td>77.111.247.129</td>\n",
       "      <td>2020-08-21 03:36:33</td>\n",
       "      <td>Mozilla/5.0 (Windows NT 10.0; Win64; x64) Appl...</td>\n",
       "      <td>5574672411</td>\n",
       "      <td>morbanisaf</td>\n",
       "      <td>209453736892211586</td>\n",
       "    </tr>\n",
       "  </tbody>\n",
       "</table>\n",
       "</div>"
      ],
      "text/plain": [
       "      CLNT_RMT_IP   ROI_CLICK_EVENT_TS  \\\n",
       "0  77.111.247.168  2020-08-02 18:37:01   \n",
       "1   66.249.73.101  2020-08-21 03:36:38   \n",
       "2  77.111.247.129  2020-08-21 03:36:38   \n",
       "3   66.249.73.101  2020-08-21 03:36:33   \n",
       "4  77.111.247.129  2020-08-21 03:36:33   \n",
       "\n",
       "                                          BRWSR_NAME  ams_pblshr_id  \\\n",
       "0  Mozilla/5.0 (Windows NT 10.0; Win64; x64) Appl...     5574672411   \n",
       "1  Mozilla/5.0 (Windows NT 10.0; Win64; x64) Appl...     5574672411   \n",
       "2  Mozilla/5.0 (Windows NT 10.0; Win64; x64) Appl...     5574672411   \n",
       "3  Mozilla/5.0 (Windows NT 10.0; Win64; x64) Appl...     5574672411   \n",
       "4  Mozilla/5.0 (Windows NT 10.0; Win64; x64) Appl...     5574672411   \n",
       "\n",
       "     buyer_id            click_id  \n",
       "0   valen_949  209245484389035777  \n",
       "1  morbanisaf  209453736892211586  \n",
       "2  morbanisaf  209453736892211586  \n",
       "3  morbanisaf  209453736892211586  \n",
       "4  morbanisaf  209453736892211586  "
      ]
     },
     "execution_count": 1,
     "metadata": {},
     "output_type": "execute_result"
    }
   ],
   "source": [
    "import pandas as pd\n",
    "\n",
    "df = pd.read_csv('../data/csv/data.csv')\n",
    "\n",
    "print(df.shape)\n",
    "df.head()"
   ]
  },
  {
   "cell_type": "code",
   "execution_count": null,
   "metadata": {},
   "outputs": [],
   "source": [
    "# Calculate time difference between clicks\n",
    "df['ROI_CLICK_EVENT_TS'] = pd.to_datetime(df['ROI_CLICK_EVENT_TS'])\n",
    "df = df.sort_values(['buyer_id', 'ROI_CLICK_EVENT_TS'])\n",
    "df['time_diff'] = df.groupby('buyer_id')['ROI_CLICK_EVENT_TS'].diff().dt.total_seconds().fillna(0)\n"
   ]
  },
  {
   "cell_type": "code",
   "execution_count": null,
   "metadata": {},
   "outputs": [
    {
     "name": "stderr",
     "output_type": "stream",
     "text": [
      "C:\\Users\\Rajneesh\\AppData\\Local\\Temp\\ipykernel_20920\\1643154947.py:2: FutureWarning: 'T' is deprecated and will be removed in a future version, please use 'min' instead.\n",
      "  df['minute'] = df['ROI_CLICK_EVENT_TS'].dt.floor('T')\n"
     ]
    }
   ],
   "source": [
    "# Count clicks in 1-minute windows\n",
    "df['minute'] = df['ROI_CLICK_EVENT_TS'].dt.floor('T')\n",
    "click_counts = df.groupby(['buyer_id', 'minute']).size().reset_index(name='clicks_per_minute')\n"
   ]
  },
  {
   "cell_type": "code",
   "execution_count": null,
   "metadata": {},
   "outputs": [
    {
     "name": "stdout",
     "output_type": "stream",
     "text": [
      "            CLNT_RMT_IP  ROI_CLICK_EVENT_TS  \\\n",
      "481168  172.225.184.187 2022-09-28 09:00:05   \n",
      "957065     172.225.6.64 2024-09-19 10:20:24   \n",
      "586981  195.181.174.227 2022-05-22 15:57:24   \n",
      "586982  195.181.174.227 2022-05-22 16:02:30   \n",
      "586983  195.181.174.227 2022-05-22 16:26:13   \n",
      "\n",
      "                                               BRWSR_NAME  ams_pblshr_id  \\\n",
      "481168  Mozilla/5.0 (iPhone; CPU iPhone OS 16_0_2 like...     5575403800   \n",
      "957065  Mozilla/5.0 (iPhone; CPU iPhone OS 18_0 like M...     5574635388   \n",
      "586981  ebayUserAgent/eBayIOS;6.60.0;iOS;15.4.1;Apple;...     5575532731   \n",
      "586982  ebayUserAgent/eBayIOS;6.60.0;iOS;15.4.1;Apple;...     5575532731   \n",
      "586983  ebayUserAgent/eBayIOS;6.60.0;iOS;15.4.1;Apple;...     5575532731   \n",
      "\n",
      "             buyer_id            click_id  time_diff              minute  \\\n",
      "481168     !!!eule!!!  218153671260927361        0.0 2022-09-28 09:00:00   \n",
      "957065  !!!scheela!!!  226330661662892416        0.0 2024-09-19 10:20:00   \n",
      "586981        !!mat!!  216694068570109312        0.0 2022-05-22 15:57:00   \n",
      "586982        !!mat!!  216694068570109312      306.0 2022-05-22 16:02:00   \n",
      "586983        !!mat!!  216694068570109312     1423.0 2022-05-22 16:26:00   \n",
      "\n",
      "        hmm_state  \n",
      "481168          0  \n",
      "957065          0  \n",
      "586981          0  \n",
      "586982          0  \n",
      "586983          0  \n"
     ]
    }
   ],
   "source": [
    "from hmmlearn import hmm\n",
    "import numpy as np\n",
    "\n",
    "# Preparing time gap data for HMM\n",
    "time_gaps = df.groupby('buyer_id')['time_diff'].apply(list).values\n",
    "flat_gaps = np.concatenate(time_gaps).reshape(-1, 1)\n",
    "\n",
    "# Train a 2-component Gaussian HMM\n",
    "hmm_model = hmm.GaussianHMM(n_components=2, covariance_type=\"diag\", n_iter=100, random_state=42)\n",
    "hmm_model.fit(flat_gaps)\n",
    "\n",
    "# Predicting the hidden states\n",
    "hidden_states = hmm_model.predict(flat_gaps)\n",
    "df['hmm_state'] = np.concatenate([np.repeat(state, len(seq)) for state, seq in zip(hidden_states, time_gaps)])\n",
    "print(df.head())\n"
   ]
  },
  {
   "cell_type": "code",
   "execution_count": 12,
   "metadata": {},
   "outputs": [],
   "source": [
    "# # Predict log likelihood for sequences\n",
    "# log_likelihood = hmm_model.score_samples(flat_gaps)\n",
    "# df['log_likelihood'] = log_likelihood\n",
    "\n",
    "# # Mark anomalies where log likelihood is below a threshold\n",
    "# threshold = np.percentile(log_likelihood, 10)  # 10% lowest log likelihood as anomalies\n",
    "# df['anomaly'] = df['log_likelihood'] < threshold\n",
    "# print(df[df['anomaly']])\n",
    "# Initialize an empty list for storing log-likelihood values\n",
    "log_likelihoods = []\n",
    "\n",
    "# Loop over each buyer's click sequence\n",
    "for time_gap_sequence in df.groupby('buyer_id')['time_diff']:\n",
    "    log_likelihood = hmm_model.score(np.array(time_gap_sequence[1]).reshape(-1, 1))\n",
    "    log_likelihoods.extend([log_likelihood] * len(time_gap_sequence[1]))  # Assign to each row in sequence\n",
    "\n",
    "# Assign log-likelihoods back to the DataFrame\n",
    "df['log_likelihood'] = log_likelihoods\n"
   ]
  },
  {
   "cell_type": "code",
   "execution_count": 38,
   "metadata": {},
   "outputs": [
    {
     "name": "stdout",
     "output_type": "stream",
     "text": [
      "           CLNT_RMT_IP  ROI_CLICK_EVENT_TS  \\\n",
      "29480   77.111.247.146 2020-09-01 08:52:47   \n",
      "533715  77.111.247.168 2020-09-02 04:00:03   \n",
      "970175  77.111.247.168 2020-09-02 04:55:48   \n",
      "970174  77.111.247.168 2020-09-02 04:55:52   \n",
      "191034  77.111.247.119 2020-09-08 02:13:11   \n",
      "\n",
      "                                               BRWSR_NAME  ams_pblshr_id  \\\n",
      "29480   Mozilla/5.0 (Windows NT 6.3; Win64; x64) Apple...     5574630565   \n",
      "533715  Mozilla/5.0 (Windows NT 6.3; Win64; x64) Apple...     5574630565   \n",
      "970175  Mozilla/5.0 (Windows NT 6.3; Win64; x64) Apple...     5574630565   \n",
      "970174  Mozilla/5.0 (Windows NT 6.3; Win64; x64) Apple...     5574630565   \n",
      "191034  Mozilla/5.0 (Windows NT 6.3; Win64; x64) Apple...     5574672411   \n",
      "\n",
      "        buyer_id            click_id  time_diff              minute  \\\n",
      "29480   12stamps  209580894230993793        0.0 2020-09-01 08:52:00   \n",
      "533715  12stamps  209589943662790657    68836.0 2020-09-02 04:00:00   \n",
      "970175  12stamps  209590327332652417     3345.0 2020-09-02 04:55:00   \n",
      "970174  12stamps  209590327332652417        4.0 2020-09-02 04:55:00   \n",
      "191034  12stamps  209655014878544129   508639.0 2020-09-08 02:13:00   \n",
      "\n",
      "        hmm_state  log_likelihood  anomaly  \n",
      "29480           1     -9154.88356     True  \n",
      "533715          1     -9154.88356     True  \n",
      "970175          1     -9154.88356     True  \n",
      "970174          1     -9154.88356     True  \n",
      "191034          1     -9154.88356     True  \n"
     ]
    }
   ],
   "source": [
    "# Define anomaly threshold\n",
    "threshold = np.percentile(df['log_likelihood'], 8)  # Lowest 10% log-likelihood values are anomalies\n",
    "\n",
    "# Mark anomalies in the DataFrame\n",
    "df['anomaly'] = df['log_likelihood'] < threshold\n",
    "print(df[df['anomaly']].head())\n"
   ]
  },
  {
   "cell_type": "code",
   "execution_count": 39,
   "metadata": {},
   "outputs": [
    {
     "name": "stderr",
     "output_type": "stream",
     "text": [
      "d:\\vpn_annotator\\env\\Lib\\site-packages\\IPython\\core\\pylabtools.py:170: UserWarning: Creating legend with loc=\"best\" can be slow with large amounts of data.\n",
      "  fig.canvas.print_figure(bytes_io, **kw)\n"
     ]
    },
    {
     "data": {
      "image/png": "[encoded data removed]",
      "text/plain": [
       "<Figure size 1200x600 with 1 Axes>"
      ]
     },
     "metadata": {},
     "output_type": "display_data"
    }
   ],
   "source": [
    "\n",
    "\n",
    "import matplotlib.pyplot as plt\n",
    "\n",
    "# Plotting time gaps and anomalies\n",
    "plt.figure(figsize=(12, 6))\n",
    "plt.plot(df['ROI_CLICK_EVENT_TS'], df['time_diff'], label='Time Gaps')\n",
    "plt.scatter(df[df['anomaly']]['ROI_CLICK_EVENT_TS'], df[df['anomaly']]['time_diff'], color='red', label='Anomalies', zorder=5)\n",
    "plt.legend()\n",
    "plt.show()\n"
   ]
  },
  {
   "cell_type": "code",
   "execution_count": 30,
   "metadata": {},
   "outputs": [
    {
     "data": {
      "text/plain": [
       "2"
      ]
     },
     "execution_count": 30,
     "metadata": {},
     "output_type": "execute_result"
    }
   ],
   "source": [
    "df['anomaly'].nunique()"
   ]
  },
  {
   "cell_type": "code",
   "execution_count": 31,
   "metadata": {},
   "outputs": [
    {
     "name": "stdout",
     "output_type": "stream",
     "text": [
      "           CLNT_RMT_IP  ROI_CLICK_EVENT_TS  \\\n",
      "1158645  155.94.160.29 2023-08-15 10:32:25   \n",
      "1158651  155.94.160.29 2023-08-15 10:33:41   \n",
      "1158650  155.94.160.29 2023-08-15 10:37:28   \n",
      "1158648  155.94.160.29 2023-08-15 10:37:29   \n",
      "1158652  155.94.160.29 2023-08-15 10:39:52   \n",
      "\n",
      "                                                BRWSR_NAME  ams_pblshr_id  \\\n",
      "1158645  Mozilla/5.0 (Windows NT 10.0; Win64; x64) Appl...     5575082068   \n",
      "1158651  Mozilla/5.0 (Windows NT 10.0; Win64; x64) Appl...     5575082068   \n",
      "1158650  Mozilla/5.0 (Windows NT 10.0; Win64; x64) Appl...     5575082068   \n",
      "1158648  Mozilla/5.0 (Windows NT 10.0; Win64; x64) Appl...     5575082068   \n",
      "1158652  Mozilla/5.0 (Windows NT 10.0; Win64; x64) Appl...     5575082068   \n",
      "\n",
      "          buyer_id            click_id  time_diff              minute  \\\n",
      "1158645  ndeals100  221789612622365696        0.0 2023-08-15 10:32:00   \n",
      "1158651  ndeals100  221789612622365696       76.0 2023-08-15 10:33:00   \n",
      "1158650  ndeals100  221789612622365696      227.0 2023-08-15 10:37:00   \n",
      "1158648  ndeals100  221789612622365696        1.0 2023-08-15 10:37:00   \n",
      "1158652  ndeals100  221789612622365696      143.0 2023-08-15 10:39:00   \n",
      "\n",
      "         hmm_state  log_likelihood  anomaly  \n",
      "1158645          1   -69710.311871     True  \n",
      "1158651          1   -69710.311871     True  \n",
      "1158650          1   -69710.311871     True  \n",
      "1158648          1   -69710.311871     True  \n",
      "1158652          1   -69710.311871     True  \n"
     ]
    }
   ],
   "source": [
    "anomalous_rows = df[df['anomaly']]\n",
    "\n",
    "# Show the first few anomalous rows\n",
    "print(anomalous_rows.head())\n"
   ]
  },
  {
   "cell_type": "code",
   "execution_count": 32,
   "metadata": {},
   "outputs": [
    {
     "data": {
      "text/plain": [
       "(36505, 11)"
      ]
     },
     "execution_count": 32,
     "metadata": {},
     "output_type": "execute_result"
    }
   ],
   "source": [
    "anomalous_rows.shape"
   ]
  },
  {
   "cell_type": "code",
   "execution_count": 33,
   "metadata": {},
   "outputs": [
    {
     "name": "stdout",
     "output_type": "stream",
     "text": [
      "            CLNT_RMT_IP  ROI_CLICK_EVENT_TS  \\\n",
      "481168  172.225.184.187 2022-09-28 09:00:05   \n",
      "957065     172.225.6.64 2024-09-19 10:20:24   \n",
      "586981  195.181.174.227 2022-05-22 15:57:24   \n",
      "586982  195.181.174.227 2022-05-22 16:02:30   \n",
      "586983  195.181.174.227 2022-05-22 16:26:13   \n",
      "\n",
      "                                               BRWSR_NAME  ams_pblshr_id  \\\n",
      "481168  Mozilla/5.0 (iPhone; CPU iPhone OS 16_0_2 like...     5575403800   \n",
      "957065  Mozilla/5.0 (iPhone; CPU iPhone OS 18_0 like M...     5574635388   \n",
      "586981  ebayUserAgent/eBayIOS;6.60.0;iOS;15.4.1;Apple;...     5575532731   \n",
      "586982  ebayUserAgent/eBayIOS;6.60.0;iOS;15.4.1;Apple;...     5575532731   \n",
      "586983  ebayUserAgent/eBayIOS;6.60.0;iOS;15.4.1;Apple;...     5575532731   \n",
      "\n",
      "             buyer_id            click_id  time_diff              minute  \\\n",
      "481168     !!!eule!!!  218153671260927361        0.0 2022-09-28 09:00:00   \n",
      "957065  !!!scheela!!!  226330661662892416        0.0 2024-09-19 10:20:00   \n",
      "586981        !!mat!!  216694068570109312        0.0 2022-05-22 15:57:00   \n",
      "586982        !!mat!!  216694068570109312      306.0 2022-05-22 16:02:00   \n",
      "586983        !!mat!!  216694068570109312     1423.0 2022-05-22 16:26:00   \n",
      "\n",
      "        hmm_state  log_likelihood  anomaly  \n",
      "481168          0       -1.121539    False  \n",
      "957065          0       -1.121539    False  \n",
      "586981          0      -36.925243    False  \n",
      "586982          0      -36.925243    False  \n",
      "586983          0      -36.925243    False  \n"
     ]
    }
   ],
   "source": [
    "non_anomalous_rows = df[~df['anomaly']]\n",
    "\n",
    "# Show the first few anomalous rows\n",
    "print(non_anomalous_rows.head())\n"
   ]
  },
  {
   "cell_type": "code",
   "execution_count": 34,
   "metadata": {},
   "outputs": [
    {
     "data": {
      "text/plain": [
       "(1217738, 11)"
      ]
     },
     "execution_count": 34,
     "metadata": {},
     "output_type": "execute_result"
    }
   ],
   "source": [
    "non_anomalous_rows.shape"
   ]
  },
  {
   "cell_type": "code",
   "execution_count": 35,
   "metadata": {},
   "outputs": [
    {
     "data": {
      "text/plain": [
       "buyer_id\n",
       "alphaseeker    3224\n",
       "yangbangban    2805\n",
       "social_lite    2794\n",
       "kennyb-0       2657\n",
       "lostandlost    2360\n",
       "               ... \n",
       "zzr600d3          1\n",
       "zzr611            1\n",
       "zzrd411           1\n",
       "zzrwolfi          1\n",
       "zzseller          1\n",
       "Name: count, Length: 465394, dtype: int64"
      ]
     },
     "execution_count": 35,
     "metadata": {},
     "output_type": "execute_result"
    }
   ],
   "source": [
    "non_anomalous_rows['buyer_id'].value_counts()"
   ]
  },
  {
   "cell_type": "code",
   "execution_count": 24,
   "metadata": {},
   "outputs": [
    {
     "data": {
      "text/plain": [
       "buyer_id\n",
       "ndeals80          8220\n",
       "timhu_11          7102\n",
       "ndeals60          6489\n",
       "supenko2          5622\n",
       "ndeals90          4889\n",
       "                  ... \n",
       "keepitcrazy         94\n",
       "stit6509            94\n",
       "headbodyhead        94\n",
       "wentwelltheday      94\n",
       "harham_8189         93\n",
       "Name: count, Length: 416, dtype: int64"
      ]
     },
     "execution_count": 24,
     "metadata": {},
     "output_type": "execute_result"
    }
   ],
   "source": [
    "anomalous_rows['buyer_id'].value_counts()"
   ]
  },
  {
   "cell_type": "code",
   "execution_count": 37,
   "metadata": {},
   "outputs": [],
   "source": [
    "df.to_csv('../data/csv/anamoly_click_pattern/anamoly_data.csv')"
   ]
  },
  {
   "cell_type": "code",
   "execution_count": 27,
   "metadata": {},
   "outputs": [
    {
     "data": {
      "text/plain": [
       "(1254243, 11)"
      ]
     },
     "execution_count": 27,
     "metadata": {},
     "output_type": "execute_result"
    }
   ],
   "source": [
    "df.shape"
   ]
  },
  {
   "cell_type": "code",
   "execution_count": null,
   "metadata": {},
   "outputs": [],
   "source": []
  }
 ],
 "metadata": {
  "kernelspec": {
   "display_name": "env",
   "language": "python",
   "name": "python3"
  },
  "language_info": {
   "codemirror_mode": {
    "name": "ipython",
    "version": 3
   },
   "file_extension": ".py",
   "mimetype": "text/x-python",
   "name": "python",
   "nbconvert_exporter": "python",
   "pygments_lexer": "ipython3",
   "version": "3.12.6"
  }
 },
 "nbformat": 4,
 "nbformat_minor": 2
}
