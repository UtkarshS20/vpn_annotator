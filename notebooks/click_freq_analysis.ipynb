{
 "cells": [
  {
   "cell_type": "code",
   "execution_count": 1,
   "metadata": {},
   "outputs": [
    {
     "name": "stdout",
     "output_type": "stream",
     "text": [
      "(1254243, 6)\n"
     ]
    },
    {
     "data": {
      "text/html": [
       "<div>\n",
       "<style scoped>\n",
       "    .dataframe tbody tr th:only-of-type {\n",
       "        vertical-align: middle;\n",
       "    }\n",
       "\n",
       "    .dataframe tbody tr th {\n",
       "        vertical-align: top;\n",
       "    }\n",
       "\n",
       "    .dataframe thead th {\n",
       "        text-align: right;\n",
       "    }\n",
       "</style>\n",
       "<table border=\"1\" class=\"dataframe\">\n",
       "  <thead>\n",
       "    <tr style=\"text-align: right;\">\n",
       "      <th></th>\n",
       "      <th>CLNT_RMT_IP</th>\n",
       "      <th>ROI_CLICK_EVENT_TS</th>\n",
       "      <th>BRWSR_NAME</th>\n",
       "      <th>ams_pblshr_id</th>\n",
       "      <th>buyer_id</th>\n",
       "      <th>click_id</th>\n",
       "    </tr>\n",
       "  </thead>\n",
       "  <tbody>\n",
       "    <tr>\n",
       "      <th>0</th>\n",
       "      <td>77.111.247.168</td>\n",
       "      <td>2020-08-02 18:37:01</td>\n",
       "      <td>Mozilla/5.0 (Windows NT 10.0; Win64; x64) Appl...</td>\n",
       "      <td>5574672411</td>\n",
       "      <td>valen_949</td>\n",
       "      <td>209245484389035777</td>\n",
       "    </tr>\n",
       "    <tr>\n",
       "      <th>1</th>\n",
       "      <td>66.249.73.101</td>\n",
       "      <td>2020-08-21 03:36:38</td>\n",
       "      <td>Mozilla/5.0 (Windows NT 10.0; Win64; x64) Appl...</td>\n",
       "      <td>5574672411</td>\n",
       "      <td>morbanisaf</td>\n",
       "      <td>209453736892211586</td>\n",
       "    </tr>\n",
       "    <tr>\n",
       "      <th>2</th>\n",
       "      <td>77.111.247.129</td>\n",
       "      <td>2020-08-21 03:36:38</td>\n",
       "      <td>Mozilla/5.0 (Windows NT 10.0; Win64; x64) Appl...</td>\n",
       "      <td>5574672411</td>\n",
       "      <td>morbanisaf</td>\n",
       "      <td>209453736892211586</td>\n",
       "    </tr>\n",
       "    <tr>\n",
       "      <th>3</th>\n",
       "      <td>66.249.73.101</td>\n",
       "      <td>2020-08-21 03:36:33</td>\n",
       "      <td>Mozilla/5.0 (Windows NT 10.0; Win64; x64) Appl...</td>\n",
       "      <td>5574672411</td>\n",
       "      <td>morbanisaf</td>\n",
       "      <td>209453736892211586</td>\n",
       "    </tr>\n",
       "    <tr>\n",
       "      <th>4</th>\n",
       "      <td>77.111.247.129</td>\n",
       "      <td>2020-08-21 03:36:33</td>\n",
       "      <td>Mozilla/5.0 (Windows NT 10.0; Win64; x64) Appl...</td>\n",
       "      <td>5574672411</td>\n",
       "      <td>morbanisaf</td>\n",
       "      <td>209453736892211586</td>\n",
       "    </tr>\n",
       "  </tbody>\n",
       "</table>\n",
       "</div>"
      ],
      "text/plain": [
       "      CLNT_RMT_IP   ROI_CLICK_EVENT_TS  \\\n",
       "0  77.111.247.168  2020-08-02 18:37:01   \n",
       "1   66.249.73.101  2020-08-21 03:36:38   \n",
       "2  77.111.247.129  2020-08-21 03:36:38   \n",
       "3   66.249.73.101  2020-08-21 03:36:33   \n",
       "4  77.111.247.129  2020-08-21 03:36:33   \n",
       "\n",
       "                                          BRWSR_NAME  ams_pblshr_id  \\\n",
       "0  Mozilla/5.0 (Windows NT 10.0; Win64; x64) Appl...     5574672411   \n",
       "1  Mozilla/5.0 (Windows NT 10.0; Win64; x64) Appl...     5574672411   \n",
       "2  Mozilla/5.0 (Windows NT 10.0; Win64; x64) Appl...     5574672411   \n",
       "3  Mozilla/5.0 (Windows NT 10.0; Win64; x64) Appl...     5574672411   \n",
       "4  Mozilla/5.0 (Windows NT 10.0; Win64; x64) Appl...     5574672411   \n",
       "\n",
       "     buyer_id            click_id  \n",
       "0   valen_949  209245484389035777  \n",
       "1  morbanisaf  209453736892211586  \n",
       "2  morbanisaf  209453736892211586  \n",
       "3  morbanisaf  209453736892211586  \n",
       "4  morbanisaf  209453736892211586  "
      ]
     },
     "execution_count": 1,
     "metadata": {},
     "output_type": "execute_result"
    }
   ],
   "source": [
    "import pandas as pd\n",
    "\n",
    "df = pd.read_csv('../data/csv/data.csv')\n",
    "\n",
    "print(df.shape)\n",
    "df.head()"
   ]
  },
  {
   "cell_type": "markdown",
   "metadata": {},
   "source": [
    "## Time Differences for Buyers and IPs"
   ]
  },
  {
   "cell_type": "code",
   "execution_count": 2,
   "metadata": {},
   "outputs": [],
   "source": [
    "df['ROI_CLICK_EVENT_TS'] = pd.to_datetime(df['ROI_CLICK_EVENT_TS'])\n",
    "# Sort by timestamp to maintain sequence\n",
    "df = df.sort_values(['buyer_id', 'ROI_CLICK_EVENT_TS'])\n",
    "\n",
    "# Time gap for each buyer\n",
    "df['buyer_time_diff'] = df.groupby('buyer_id')['ROI_CLICK_EVENT_TS'].diff().dt.total_seconds().fillna(0)\n",
    "\n",
    "# Time gap for each IP\n",
    "df = df.sort_values(['CLNT_RMT_IP', 'ROI_CLICK_EVENT_TS'])\n",
    "df['ip_time_diff'] = df.groupby('CLNT_RMT_IP')['ROI_CLICK_EVENT_TS'].diff().dt.total_seconds().fillna(0)\n",
    "\n"
   ]
  },
  {
   "cell_type": "code",
   "execution_count": 3,
   "metadata": {},
   "outputs": [
    {
     "data": {
      "text/plain": [
       "Index(['CLNT_RMT_IP', 'ROI_CLICK_EVENT_TS', 'BRWSR_NAME', 'ams_pblshr_id',\n",
       "       'buyer_id', 'click_id', 'buyer_time_diff', 'ip_time_diff'],\n",
       "      dtype='object')"
      ]
     },
     "execution_count": 3,
     "metadata": {},
     "output_type": "execute_result"
    }
   ],
   "source": [
    "df.columns"
   ]
  },
  {
   "cell_type": "markdown",
   "metadata": {},
   "source": [
    "## Click counts per minute"
   ]
  },
  {
   "cell_type": "code",
   "execution_count": 4,
   "metadata": {},
   "outputs": [
    {
     "name": "stderr",
     "output_type": "stream",
     "text": [
      "C:\\Users\\Rajneesh\\AppData\\Local\\Temp\\ipykernel_5856\\3067487177.py:2: FutureWarning: 'T' is deprecated and will be removed in a future version, please use 'min' instead.\n",
      "  df['minute'] = df['ROI_CLICK_EVENT_TS'].dt.floor('T')\n"
     ]
    },
    {
     "data": {
      "text/html": [
       "<div>\n",
       "<style scoped>\n",
       "    .dataframe tbody tr th:only-of-type {\n",
       "        vertical-align: middle;\n",
       "    }\n",
       "\n",
       "    .dataframe tbody tr th {\n",
       "        vertical-align: top;\n",
       "    }\n",
       "\n",
       "    .dataframe thead th {\n",
       "        text-align: right;\n",
       "    }\n",
       "</style>\n",
       "<table border=\"1\" class=\"dataframe\">\n",
       "  <thead>\n",
       "    <tr style=\"text-align: right;\">\n",
       "      <th></th>\n",
       "      <th>CLNT_RMT_IP</th>\n",
       "      <th>ROI_CLICK_EVENT_TS</th>\n",
       "      <th>BRWSR_NAME</th>\n",
       "      <th>ams_pblshr_id</th>\n",
       "      <th>buyer_id</th>\n",
       "      <th>click_id</th>\n",
       "      <th>buyer_time_diff</th>\n",
       "      <th>ip_time_diff</th>\n",
       "      <th>minute</th>\n",
       "      <th>buyer_clicks_per_minute</th>\n",
       "      <th>ip_clicks_per_minute</th>\n",
       "    </tr>\n",
       "  </thead>\n",
       "  <tbody>\n",
       "    <tr>\n",
       "      <th>0</th>\n",
       "      <td>101.44.82.14</td>\n",
       "      <td>2023-12-29 19:31:54</td>\n",
       "      <td>Mozilla/5.0 (Linux; Android 10; JEF-AN00 Build...</td>\n",
       "      <td>5574735181</td>\n",
       "      <td>cl7645</td>\n",
       "      <td>223334034911676801</td>\n",
       "      <td>0.0</td>\n",
       "      <td>0.0</td>\n",
       "      <td>2023-12-29 19:31:00</td>\n",
       "      <td>2</td>\n",
       "      <td>1</td>\n",
       "    </tr>\n",
       "    <tr>\n",
       "      <th>1</th>\n",
       "      <td>101.44.83.169</td>\n",
       "      <td>2024-02-20 06:55:49</td>\n",
       "      <td>Mozilla/5.0 (Linux; Android 10; JEF-AN00 Build...</td>\n",
       "      <td>5574735181</td>\n",
       "      <td>cl7645</td>\n",
       "      <td>223925649672767360</td>\n",
       "      <td>4533835.0</td>\n",
       "      <td>0.0</td>\n",
       "      <td>2024-02-20 06:55:00</td>\n",
       "      <td>1</td>\n",
       "      <td>1</td>\n",
       "    </tr>\n",
       "    <tr>\n",
       "      <th>2</th>\n",
       "      <td>101.44.83.169</td>\n",
       "      <td>2024-02-20 09:45:50</td>\n",
       "      <td>Mozilla/5.0 (Linux; Android 10; JEF-AN00 Build...</td>\n",
       "      <td>5574735181</td>\n",
       "      <td>cl7645</td>\n",
       "      <td>223925649672767360</td>\n",
       "      <td>10201.0</td>\n",
       "      <td>10201.0</td>\n",
       "      <td>2024-02-20 09:45:00</td>\n",
       "      <td>1</td>\n",
       "      <td>1</td>\n",
       "    </tr>\n",
       "    <tr>\n",
       "      <th>3</th>\n",
       "      <td>101.44.83.234</td>\n",
       "      <td>2024-05-15 18:59:02</td>\n",
       "      <td>ebayUserAgent/eBayIOS;6.159.0;iOS;17.4.1;Apple...</td>\n",
       "      <td>5575280720</td>\n",
       "      <td>smir5900</td>\n",
       "      <td>224888936095825920</td>\n",
       "      <td>0.0</td>\n",
       "      <td>0.0</td>\n",
       "      <td>2024-05-15 18:59:00</td>\n",
       "      <td>1</td>\n",
       "      <td>1</td>\n",
       "    </tr>\n",
       "    <tr>\n",
       "      <th>4</th>\n",
       "      <td>101.44.83.234</td>\n",
       "      <td>2024-05-15 20:01:59</td>\n",
       "      <td>ebayUserAgent/eBayIOS;6.159.0;iOS;17.4.1;Apple...</td>\n",
       "      <td>5575280720</td>\n",
       "      <td>smir5900</td>\n",
       "      <td>224888936095825920</td>\n",
       "      <td>3777.0</td>\n",
       "      <td>3777.0</td>\n",
       "      <td>2024-05-15 20:01:00</td>\n",
       "      <td>1</td>\n",
       "      <td>1</td>\n",
       "    </tr>\n",
       "  </tbody>\n",
       "</table>\n",
       "</div>"
      ],
      "text/plain": [
       "     CLNT_RMT_IP  ROI_CLICK_EVENT_TS  \\\n",
       "0   101.44.82.14 2023-12-29 19:31:54   \n",
       "1  101.44.83.169 2024-02-20 06:55:49   \n",
       "2  101.44.83.169 2024-02-20 09:45:50   \n",
       "3  101.44.83.234 2024-05-15 18:59:02   \n",
       "4  101.44.83.234 2024-05-15 20:01:59   \n",
       "\n",
       "                                          BRWSR_NAME  ams_pblshr_id  buyer_id  \\\n",
       "0  Mozilla/5.0 (Linux; Android 10; JEF-AN00 Build...     5574735181    cl7645   \n",
       "1  Mozilla/5.0 (Linux; Android 10; JEF-AN00 Build...     5574735181    cl7645   \n",
       "2  Mozilla/5.0 (Linux; Android 10; JEF-AN00 Build...     5574735181    cl7645   \n",
       "3  ebayUserAgent/eBayIOS;6.159.0;iOS;17.4.1;Apple...     5575280720  smir5900   \n",
       "4  ebayUserAgent/eBayIOS;6.159.0;iOS;17.4.1;Apple...     5575280720  smir5900   \n",
       "\n",
       "             click_id  buyer_time_diff  ip_time_diff              minute  \\\n",
       "0  223334034911676801              0.0           0.0 2023-12-29 19:31:00   \n",
       "1  223925649672767360        4533835.0           0.0 2024-02-20 06:55:00   \n",
       "2  223925649672767360          10201.0       10201.0 2024-02-20 09:45:00   \n",
       "3  224888936095825920              0.0           0.0 2024-05-15 18:59:00   \n",
       "4  224888936095825920           3777.0        3777.0 2024-05-15 20:01:00   \n",
       "\n",
       "   buyer_clicks_per_minute  ip_clicks_per_minute  \n",
       "0                        2                     1  \n",
       "1                        1                     1  \n",
       "2                        1                     1  \n",
       "3                        1                     1  \n",
       "4                        1                     1  "
      ]
     },
     "execution_count": 4,
     "metadata": {},
     "output_type": "execute_result"
    }
   ],
   "source": [
    "# Count clicks in 1-minute windows\n",
    "df['minute'] = df['ROI_CLICK_EVENT_TS'].dt.floor('T')\n",
    "buyer_clicks_per_minute = df.groupby(['buyer_id', 'minute']).size().reset_index(name='buyer_clicks_per_minute')\n",
    "# Calculate clicks per minute for each IP\n",
    "ip_clicks_per_minute = df.groupby(['CLNT_RMT_IP', 'minute']).size().reset_index(name='ip_clicks_per_minute')\n",
    "# Merge buyer click counts into the main dataframe\n",
    "df = df.merge(buyer_clicks_per_minute, on=['buyer_id', 'minute'], how='left')\n",
    "df = df.merge(ip_clicks_per_minute, on=['CLNT_RMT_IP', 'minute'], how='left')\n",
    "\n",
    "df.head() # Check the new columns 'buyer_clicks_per_minute' and 'ip_clicks_per_minute'\n"
   ]
  },
  {
   "cell_type": "markdown",
   "metadata": {},
   "source": [
    "## Aggregating Features"
   ]
  },
  {
   "cell_type": "code",
   "execution_count": 5,
   "metadata": {},
   "outputs": [],
   "source": [
    "buyer_features = df.groupby('buyer_id').agg({\n",
    "    'buyer_time_diff': ['mean', 'median', 'std'],\n",
    "    'buyer_clicks_per_minute': ['mean', 'max', 'std'],\n",
    "    'ip_time_diff': ['mean', 'median', 'std'],\n",
    "    'ip_clicks_per_minute': ['mean', 'max', 'std']\n",
    "}).reset_index()\n",
    "\n",
    "# Flatten column names and fill NA values\n",
    "buyer_features.columns = ['_'.join(col).strip() for col in buyer_features.columns]\n",
    "buyer_features.rename(columns={'buyer_id_': 'buyer_id'}, inplace=True)\n",
    "buyer_features.fillna(0, inplace=True)\n",
    "\n",
    "# Step 2: Merge the aggregated buyer features into the main dataframe\n",
    "df = df.merge(buyer_features, on='buyer_id', how='left')\n",
    "\n",
    "\n"
   ]
  },
  {
   "cell_type": "markdown",
   "metadata": {},
   "source": [
    "## IsolationForest"
   ]
  },
  {
   "cell_type": "code",
   "execution_count": 6,
   "metadata": {},
   "outputs": [
    {
     "name": "stdout",
     "output_type": "stream",
     "text": [
      "Detected anomalies:\n",
      "            CLNT_RMT_IP  ROI_CLICK_EVENT_TS  \\\n",
      "20       102.129.143.11 2023-08-25 02:14:24   \n",
      "25       102.129.143.11 2024-07-30 15:08:23   \n",
      "30        102.129.143.4 2022-09-02 14:37:01   \n",
      "35        102.129.143.4 2023-05-28 04:45:49   \n",
      "37        102.129.143.4 2024-04-16 01:46:36   \n",
      "...                 ...                 ...   \n",
      "1253613   98.159.37.176 2024-02-02 17:58:09   \n",
      "1253683    98.98.147.50 2023-10-08 13:06:54   \n",
      "1253804   98.98.148.165 2024-07-17 10:34:33   \n",
      "1253877    98.98.171.50 2024-10-23 00:41:50   \n",
      "1254176   98.98.210.136 2024-07-11 02:44:32   \n",
      "\n",
      "                                                BRWSR_NAME  ams_pblshr_id  \\\n",
      "20       Mozilla/5.0 (Windows NT 10.0; Win64; x64) Appl...     5575612316   \n",
      "25       Mozilla/5.0 (Windows NT 10.0; Win64; x64) Appl...     5574858753   \n",
      "30       ebayUserAgent/eBayIOS;6.75.0;iOS;15.6.1;Apple;...     5575400987   \n",
      "35       ebayUserAgent/eBayIOS;6.111.0;iOS;16.4.1;Apple...     5574635388   \n",
      "37       Mozilla/5.0 (Windows NT 10.0; Win64; x64; rv:1...     5574635388   \n",
      "...                                                    ...            ...   \n",
      "1253613  Mozilla/5.0 (Windows NT 10.0; Win64; x64; rv:1...     5575534968   \n",
      "1253683  Mozilla/5.0 (iPhone; CPU iPhone OS 16_6 like M...     5575420559   \n",
      "1253804  Mozilla/5.0 (Windows NT 10.0; Win64; x64) Appl...     5575519826   \n",
      "1253877  ebayUserAgent/eBayAndroid;6.180.1;Android;13;X...     5575400987   \n",
      "1254176  Mozilla/5.0 (Windows NT 10.0; Win64; x64) Appl...     5575519826   \n",
      "\n",
      "                 buyer_id            click_id  buyer_time_diff  ip_time_diff  \\\n",
      "20                dikaneo  221898977955826688              0.0    20378750.0   \n",
      "25       thistlegorm58-de  225755175895448704              0.0    13674300.0   \n",
      "30               8ynzd-50  217861877944190592              0.0    18768782.0   \n",
      "35         worldtradeshop  220892243421300608              0.0    12186763.0   \n",
      "37               pa_89858  224559994455725184              0.0    22809862.0   \n",
      "...                   ...                 ...              ...           ...   \n",
      "1253613            qltdia  223729505668697088              0.0    14374710.0   \n",
      "1253683          sush_155  222401899590593153              0.0    17994178.0   \n",
      "1253804           enr4237  225606058738585600              0.0      461942.0   \n",
      "1253877       ju-79038958  226711130127485568              0.0    13640460.0   \n",
      "1254176         ful-32118  225534380872965504              0.0      240147.0   \n",
      "\n",
      "                     minute  buyer_clicks_per_minute  ...  \\\n",
      "20      2023-08-25 02:14:00                        1  ...   \n",
      "25      2024-07-30 15:08:00                        1  ...   \n",
      "30      2022-09-02 14:37:00                        1  ...   \n",
      "35      2023-05-28 04:45:00                        1  ...   \n",
      "37      2024-04-16 01:46:00                        1  ...   \n",
      "...                     ...                      ...  ...   \n",
      "1253613 2024-02-02 17:58:00                        1  ...   \n",
      "1253683 2023-10-08 13:06:00                        1  ...   \n",
      "1253804 2024-07-17 10:34:00                        2  ...   \n",
      "1253877 2024-10-23 00:41:00                        1  ...   \n",
      "1254176 2024-07-11 02:44:00                        2  ...   \n",
      "\n",
      "         CLNT_RMT_IP_encoded  ams_pblshr_id_encoded  buyer_id_encoded  \\\n",
      "20                        18                  37443                 1   \n",
      "25                        18                  24730                 1   \n",
      "30                        11                  62219                 1   \n",
      "35                        11                  42035                 1   \n",
      "37                        11                  42035                 1   \n",
      "...                      ...                    ...               ...   \n",
      "1253613                   26                   9959                 1   \n",
      "1253683                   17                  23308                 1   \n",
      "1253804                   30                   9564                 2   \n",
      "1253877                    3                  62219                 1   \n",
      "1254176                   71                   9564                 2   \n",
      "\n",
      "         click_id_encoded       PC1       PC2        PC3        PC4       PC5  \\\n",
      "20                      1 -1.938167  1.265151  10.826822  12.871785  0.089014   \n",
      "25                      1 -1.646511  0.622112   7.398441   8.428549 -0.239224   \n",
      "30                      1 -1.859243  1.112944   9.976093  11.782008  0.397387   \n",
      "35                      1 -1.575443  0.481152   6.618106   7.426070 -0.032041   \n",
      "37                      1 -2.044186  1.498742  12.070690  14.482420  0.207767   \n",
      "...                   ...       ...       ...        ...        ...       ...   \n",
      "1253613                 1 -1.681978  0.687776   7.772102   8.906233 -0.428915   \n",
      "1253683                 1 -1.837628  1.035883   9.617266  11.299069 -0.161496   \n",
      "1253804                 2 -0.441049  1.916768  10.023201  11.768139  0.721739   \n",
      "1253877                 1 -1.633248  0.622179   7.344624   8.374914  0.281595   \n",
      "1254176                 2 -0.865489  3.991268  18.306436  23.050668  2.400380   \n",
      "\n",
      "         Anomaly  \n",
      "20            -1  \n",
      "25            -1  \n",
      "30            -1  \n",
      "35            -1  \n",
      "37            -1  \n",
      "...          ...  \n",
      "1253613       -1  \n",
      "1253683       -1  \n",
      "1253804       -1  \n",
      "1253877       -1  \n",
      "1254176       -1  \n",
      "\n",
      "[43841 rows x 33 columns]\n"
     ]
    }
   ],
   "source": [
    "import pandas as pd\n",
    "from sklearn.ensemble import IsolationForest\n",
    "from sklearn.preprocessing import StandardScaler\n",
    "from sklearn.decomposition import PCA\n",
    "# from sklearn.svm import OneClassSVM\n",
    "\n",
    "# Assuming the data is loaded into a pandas DataFrame called df\n",
    "# Example: df = pd.read_csv(\"your_data.csv\")\n",
    "\n",
    "# Step 1: Frequency Encoding (Add new columns for frequency encoding)\n",
    "def frequency_encode(df, columns):\n",
    "    for col in columns:\n",
    "        freq = df[col].value_counts()\n",
    "        new_col_name = f\"{col}_encoded\"\n",
    "        df[new_col_name] = df[col].map(freq)\n",
    "    return df\n",
    "\n",
    "# Encoding the categorical columns\n",
    "categorical_columns = ['CLNT_RMT_IP', 'ams_pblshr_id', 'buyer_id', 'click_id']\n",
    "df = frequency_encode(df, categorical_columns)\n",
    "# print(df.columns)\n",
    "# Step 2: PCA on the specified numeric columns\n",
    "numeric_columns = ['buyer_clicks_per_minute', 'ip_clicks_per_minute', 'buyer_time_diff_mean',\n",
    "                   'buyer_time_diff_median', 'buyer_time_diff_std', 'buyer_clicks_per_minute_mean',\n",
    "                   'buyer_clicks_per_minute_max', 'buyer_clicks_per_minute_std', 'ip_time_diff_mean',\n",
    "                   'ip_time_diff_median', 'ip_time_diff_std', 'ip_clicks_per_minute_mean',\n",
    "                   'ip_clicks_per_minute_max', 'ip_clicks_per_minute_std', 'CLNT_RMT_IP_encoded', 'ams_pblshr_id_encoded', 'buyer_id_encoded', 'click_id_encoded']\n",
    "\n",
    "# Scaling the numeric features before PCA\n",
    "scaler = StandardScaler()\n",
    "df_scaled = scaler.fit_transform(df[numeric_columns])\n",
    "\n",
    "# Apply PCA to reduce dimensionality\n",
    "pca = PCA(n_components=5)  # Choose the number of components as needed\n",
    "df_pca = pca.fit_transform(df_scaled)\n",
    "\n",
    "# Add the PCA components back to the dataframe (optional)\n",
    "df_pca_df = pd.DataFrame(df_pca, columns=[f'PC{i+1}' for i in range(df_pca.shape[1])])\n",
    "df = pd.concat([df, df_pca_df], axis=1)\n",
    "\n",
    "# Step 3: Train Isolation Forest for anomaly detection\n",
    "# We'll use the PCA components for anomaly detection\n",
    "X = df_pca_df.values\n",
    "\n",
    "model = IsolationForest(contamination=0.035)  # contamination is the expected proportion of outliers\n",
    "model.fit(X)\n",
    "predictions = model.predict(X)  # 1 for normal, -1 for anomaly\n",
    "\n",
    "# Step 4: Results\n",
    "# Add anomaly predictions to the DataFrame\n",
    "df['Anomaly'] = predictions\n",
    "\n",
    "# Display detected anomalies\n",
    "anomalies = df[df['Anomaly'] == -1]\n",
    "print(f\"Detected anomalies:\\n{anomalies}\")\n"
   ]
  },
  {
   "cell_type": "markdown",
   "metadata": {},
   "source": [
    "## Train the Hidden Markov Model"
   ]
  },
  {
   "cell_type": "code",
   "execution_count": null,
   "metadata": {},
   "outputs": [],
   "source": [
    "# from hmmlearn import hmm\n",
    "# import numpy as np\n",
    "# from sklearn.preprocessing import StandardScaler\n",
    "# from sklearn.decomposition import PCA\n",
    "# from sklearn.cluster import KMeans\n",
    "\n",
    "\n",
    "# # # Prepare features for HMM\n",
    "# # X = buyer_features[[  # Ensure this has the correct dimensions\n",
    "# #     'buyer_time_diff_mean', 'buyer_time_diff_median', 'buyer_time_diff_std',\n",
    "# #     'buyer_clicks_per_minute_mean', 'buyer_clicks_per_minute_max', 'buyer_clicks_per_minute_std',\n",
    "# #     'ip_time_diff_mean', 'ip_time_diff_median', 'ip_time_diff_std',\n",
    "# #     'ip_clicks_per_minute_mean', 'ip_clicks_per_minute_max', 'ip_clicks_per_minute_std'\n",
    "# # ]].values\n",
    "\n",
    "# scaler = StandardScaler()\n",
    "# X_scaled = scaler.fit_transform(X)\n",
    "# pca = PCA(n_components=5)  # Keep 5 principal components\n",
    "# X_pca = pca.fit_transform(X_scaled)\n",
    "\n",
    "# kmeans = KMeans(n_clusters=2, random_state=42).fit(X_pca)\n",
    "\n",
    "# # Train a Gaussian HMM with 2 states\n",
    "# hmm_model = hmm.GaussianHMM(n_components=2, covariance_type=\"diag\", n_iter=200, tol=1e-3, random_state=42)\n",
    "# hmm_model.means_ = kmeans.cluster_centers_\n",
    "# hmm_model.fit(X_pca)\n",
    "\n",
    "# df['hmm_state'] = hmm_model.predict(X_pca)\n",
    "# df['log_likelihood'] = hmm_model.score_samples(X_pca)  # Log-likelihood of each sample\n",
    "\n",
    "# # Anomaly detection based on log-likelihood\n",
    "# threshold = np.percentile(df['log_likelihood'], 8)  # Use lowest 8% log-likelihood values as anomalies\n",
    "# df['anomaly'] = df['log_likelihood'] < threshold\n",
    "\n",
    "# # Alternatively, assume state 1 as anomalous\n",
    "# df['anomaly'] = df['anomaly'] | (df['hmm_state'] == 1)\n",
    "\n",
    "# # Step 6: Final output (merge with original data and save results)\n",
    "# final_df = df[[\n",
    "#     'CLNT_RMT_IP', 'ROI_CLICK_EVENT_TS', 'BRWSR_NAME', 'ams_pblshr_id', \n",
    "#     'buyer_id', 'click_id', 'hmm_state', 'log_likelihood', 'anomaly'\n",
    "# ]]\n",
    "\n",
    "\n",
    "# # Save the results to a CSV file\n",
    "# final_df.to_csv('../data/csv/click_fraud_detection_results_time_feeatures.csv', index=False)\n",
    "\n",
    "# # Display a sample of the final output\n",
    "# print(final_df.head())\n"
   ]
  },
  {
   "cell_type": "markdown",
   "metadata": {},
   "source": [
    "## Anamoly Detection"
   ]
  },
  {
   "cell_type": "code",
   "execution_count": null,
   "metadata": {},
   "outputs": [],
   "source": [
    "# from hmmlearn import hmm\n",
    "# import numpy as np\n",
    "\n",
    "# # Preparing time gap data for HMM\n",
    "# time_gaps = df.groupby('buyer_id')['time_diff'].apply(list).values\n",
    "# flat_gaps = np.concatenate(time_gaps).reshape(-1, 1)\n",
    "\n",
    "# # Train a 2-component Gaussian HMM\n",
    "# hmm_model = hmm.GaussianHMM(n_components=2, covariance_type=\"diag\", n_iter=100, random_state=42)\n",
    "# hmm_model.fit(flat_gaps)\n",
    "\n",
    "# # Predicting the hidden states\n",
    "# hidden_states = hmm_model.predict(flat_gaps)\n",
    "# df['hmm_state'] = np.concatenate([np.repeat(state, len(seq)) for state, seq in zip(hidden_states, time_gaps)])\n",
    "# print(df.head())\n",
    "# Predict states and classify anomalies\n",
    "# buyer_features['hmm_state'] = hmm_model.predict(X_pca)\n",
    "# buyer_features['log_likelihood'] = hmm_model.score_samples(X_pca)  # Log-likelihood of each sample\n",
    "\n",
    "# # Apply anomaly detection based on log-likelihood threshold\n",
    "# threshold = np.percentile(buyer_features['log_likelihood'], 8)  # Use the lowest 8% log-likelihood values as anomalies\n",
    "# buyer_features['anomaly'] = buyer_features['log_likelihood'] < threshold\n",
    "\n",
    "# # Alternatively, assume state 1 as anomalous\n",
    "# buyer_features['anomaly'] = buyer_features['anomaly'] | (buyer_features['hmm_state'] == 1)\n",
    "\n",
    "# # Merge anomaly predictions back to the main dataframe, ensuring alignment\n",
    "# df = df.merge(buyer_features[['buyer_id', 'hmm_state', 'log_likelihood', 'anomaly']], on='buyer_id', how='left')\n",
    "\n",
    "# # Select and reorder columns for the final output\n",
    "# final_df = df[[\n",
    "#     'CLNT_RMT_IP', 'ROI_CLICK_EVENT_TS', 'BRWSR_NAME', 'ams_pblshr_id', \n",
    "#     'buyer_id', 'click_id', 'hmm_state', 'log_likelihood', 'anomaly'\n",
    "# ]]\n",
    "\n",
    "# # Save the results to a CSV file\n",
    "# final_df.to_csv('../data/csv/click_fraud_detection_results_time_feeatures.csv', index=False)\n",
    "\n",
    "# # Display a sample of the final output\n",
    "# print(final_df.head())\n"
   ]
  },
  {
   "cell_type": "code",
   "execution_count": null,
   "metadata": {},
   "outputs": [],
   "source": [
    "# # Predict log likelihood for sequences\n",
    "# log_likelihood = hmm_model.score_samples(flat_gaps)\n",
    "# df['log_likelihood'] = log_likelihood\n",
    "\n",
    "# # Mark anomalies where log likelihood is below a threshold\n",
    "# threshold = np.percentile(log_likelihood, 10)  # 10% lowest log likelihood as anomalies\n",
    "# df['anomaly'] = df['log_likelihood'] < threshold\n",
    "# print(df[df['anomaly']])\n",
    "# Initialize an empty list for storing log-likelihood values\n",
    "log_likelihoods = []\n",
    "\n",
    "# Loop over each buyer's click sequence\n",
    "# for time_gap_sequence in df.groupby('buyer_id')['time_diff']:\n",
    "#     log_likelihood = hmm_model.score(np.array(time_gap_sequence[1]).reshape(-1, 1))\n",
    "#     log_likelihoods.extend([log_likelihood] * len(time_gap_sequence[1]))  # Assign to each row in sequence\n",
    "\n",
    "# # Assign log-likelihoods back to the DataFrame\n",
    "# df['log_likelihood'] = log_likelihoods\n"
   ]
  },
  {
   "cell_type": "code",
   "execution_count": null,
   "metadata": {},
   "outputs": [],
   "source": [
    "# Define anomaly threshold\n",
    "# threshold = np.percentile(df['log_likelihood'], 8)  # Lowest 10% log-likelihood values are anomalies\n",
    "\n",
    "# # Mark anomalies in the DataFrame\n",
    "# df['anomaly'] = df['log_likelihood'] < threshold\n",
    "# # print(df[df['anomaly']].head())\n",
    "# df['hmm_state'] = hmm_model.predict(X_pca)\n",
    "# df['log_likelihood'] = hmm_model.score_samples(X_pca)\n",
    "# df['anomaly'] = df['hmm_state'] == 1  # Assume state 1 indicates anomalies\n"
   ]
  },
  {
   "cell_type": "code",
   "execution_count": 10,
   "metadata": {},
   "outputs": [
    {
     "name": "stdout",
     "output_type": "stream",
     "text": [
      "     CLNT_RMT_IP  ROI_CLICK_EVENT_TS  \\\n",
      "0   101.44.82.14 2023-12-29 19:31:54   \n",
      "1  101.44.83.169 2024-02-20 06:55:49   \n",
      "2  101.44.83.169 2024-02-20 09:45:50   \n",
      "3  101.44.83.234 2024-05-15 18:59:02   \n",
      "4  101.44.83.234 2024-05-15 20:01:59   \n",
      "\n",
      "                                          BRWSR_NAME  ams_pblshr_id  buyer_id  \\\n",
      "0  Mozilla/5.0 (Linux; Android 10; JEF-AN00 Build...     5574735181    cl7645   \n",
      "1  Mozilla/5.0 (Linux; Android 10; JEF-AN00 Build...     5574735181    cl7645   \n",
      "2  Mozilla/5.0 (Linux; Android 10; JEF-AN00 Build...     5574735181    cl7645   \n",
      "3  ebayUserAgent/eBayIOS;6.159.0;iOS;17.4.1;Apple...     5575280720  smir5900   \n",
      "4  ebayUserAgent/eBayIOS;6.159.0;iOS;17.4.1;Apple...     5575280720  smir5900   \n",
      "\n",
      "   Anomaly  \n",
      "0        1  \n",
      "1        1  \n",
      "2        1  \n",
      "3        1  \n",
      "4        1  \n"
     ]
    }
   ],
   "source": [
    "final_df = df[[\n",
    "    'CLNT_RMT_IP', 'ROI_CLICK_EVENT_TS', 'BRWSR_NAME', 'ams_pblshr_id', \n",
    "    'buyer_id', 'Anomaly'\n",
    "]]\n",
    "# Index(['CLNT_RMT_IP', 'ROI_CLICK_EVENT_TS', 'BRWSR_NAME', 'ams_pblshr_id',\n",
    "#        'buyer_id', 'click_id', 'buyer_time_diff', 'ip_time_diff', 'minute',\n",
    "#        'buyer_clicks_per_minute', 'ip_clicks_per_minute',\n",
    "#        'buyer_time_diff_mean', 'buyer_time_diff_median', 'buyer_time_diff_std',\n",
    "#        'buyer_clicks_per_minute_mean', 'buyer_clicks_per_minute_max',\n",
    "#        'buyer_clicks_per_minute_std', 'ip_time_diff_mean',\n",
    "#        'ip_time_diff_median', 'ip_time_diff_std', 'ip_clicks_per_minute_mean',\n",
    "#        'ip_clicks_per_minute_max', 'ip_clicks_per_minute_std', 'PC1', 'PC2',\n",
    "#        'PC3', 'PC4', 'PC5', 'Anomaly'],\n",
    "# Save to CSV\n",
    "final_df.to_csv('../data/csv/anamoly_click_pattern/click_fraud_detection_results_time_feeatures.csv', index=False)\n",
    "print(final_df.head())\n"
   ]
  },
  {
   "cell_type": "code",
   "execution_count": 8,
   "metadata": {},
   "outputs": [
    {
     "name": "stdout",
     "output_type": "stream",
     "text": [
      "            CLNT_RMT_IP  ROI_CLICK_EVENT_TS  \\\n",
      "9410     103.231.89.173 2021-06-14 07:11:35   \n",
      "9411     103.231.89.173 2021-06-14 08:08:18   \n",
      "9412     103.231.89.173 2021-06-14 21:09:34   \n",
      "9413     103.231.89.173 2021-06-14 21:33:14   \n",
      "9581     103.231.89.230 2021-06-17 19:22:03   \n",
      "...                 ...                 ...   \n",
      "1153151   77.234.43.170 2022-01-16 12:48:13   \n",
      "1153152   77.234.43.170 2022-01-16 12:48:16   \n",
      "1153153   77.234.43.170 2022-01-16 12:48:19   \n",
      "1153827   77.234.43.171 2020-08-03 12:43:46   \n",
      "1153952   77.234.43.171 2020-10-16 11:32:21   \n",
      "\n",
      "                                                BRWSR_NAME  ams_pblshr_id  \\\n",
      "9410     Mozilla/5.0 (Macintosh; Intel Mac OS X 10_15_7...     5574735181   \n",
      "9411     Mozilla/5.0 (Macintosh; Intel Mac OS X 10_15_7...     5574735181   \n",
      "9412     Mozilla/5.0 (iPhone; CPU iPhone OS 14_6 like M...     5574735181   \n",
      "9413     Mozilla/5.0 (iPhone; CPU iPhone OS 14_6 like M...     5574735181   \n",
      "9581     Mozilla/5.0 (iPhone; CPU iPhone OS 14_6 like M...     5575133559   \n",
      "...                                                    ...            ...   \n",
      "1153151  Mozilla/5.0 (Windows NT 10.0; Win64; x64) Appl...     5574672411   \n",
      "1153152  Mozilla/5.0 (Windows NT 10.0; Win64; x64) Appl...     5574672411   \n",
      "1153153  Mozilla/5.0 (Windows NT 10.0; Win64; x64) Appl...     5574672411   \n",
      "1153827  Mozilla/5.0 (Windows NT 10.0; Win64; x64) Appl...     5574672411   \n",
      "1153952  Mozilla/5.0 (Windows NT 10.0; Win64; x64) Appl...     5574672411   \n",
      "\n",
      "          buyer_id            click_id  buyer_time_diff  ip_time_diff  \\\n",
      "9410      66wolf66  212818961821238016         392787.0     2943609.0   \n",
      "9411      66wolf66  212818972833886080           3403.0        3403.0   \n",
      "9412      66wolf66  212818972833886080          46876.0       46876.0   \n",
      "9413      66wolf66  212818972833886080           1420.0        1420.0   \n",
      "9581      66wolf66  212858103638554368         251329.0     2238659.0   \n",
      "...            ...                 ...              ...           ...   \n",
      "1153151  paul7345c  215267712402982016              2.0           2.0   \n",
      "1153152  paul7345c  215267712402982016              3.0           3.0   \n",
      "1153153  paul7345c  215267712402982016              3.0           3.0   \n",
      "1153827  paul7345c  209254304484749058              0.0        4964.0   \n",
      "1153952  paul7345c  210091674368960257        6389315.0       22887.0   \n",
      "\n",
      "                     minute  buyer_clicks_per_minute  ...  \\\n",
      "9410    2021-06-14 07:11:00                        1  ...   \n",
      "9411    2021-06-14 08:08:00                        1  ...   \n",
      "9412    2021-06-14 21:09:00                        1  ...   \n",
      "9413    2021-06-14 21:33:00                        1  ...   \n",
      "9581    2021-06-17 19:22:00                        1  ...   \n",
      "...                     ...                      ...  ...   \n",
      "1153151 2022-01-16 12:48:00                        8  ...   \n",
      "1153152 2022-01-16 12:48:00                        8  ...   \n",
      "1153153 2022-01-16 12:48:00                        8  ...   \n",
      "1153827 2020-08-03 12:43:00                        1  ...   \n",
      "1153952 2020-10-16 11:32:00                        1  ...   \n",
      "\n",
      "         CLNT_RMT_IP_encoded  ams_pblshr_id_encoded  buyer_id_encoded  \\\n",
      "9410                     168                  33467               181   \n",
      "9411                     168                  33467               181   \n",
      "9412                     168                  33467               181   \n",
      "9413                     168                  33467               181   \n",
      "9581                     170                  52001               181   \n",
      "...                      ...                    ...               ...   \n",
      "1153151                 1110                 185275               121   \n",
      "1153152                 1110                 185275               121   \n",
      "1153153                 1110                 185275               121   \n",
      "1153827                 1097                 185275               121   \n",
      "1153952                 1097                 185275               121   \n",
      "\n",
      "         click_id_encoded        PC1       PC2       PC3       PC4       PC5  \\\n",
      "9410                    1  22.576726  1.452609 -0.676821  0.903423  7.163831   \n",
      "9411                    3  22.599979  1.423343 -0.719258  0.943902  7.131840   \n",
      "9412                    3  22.599979  1.423343 -0.719258  0.943902  7.131840   \n",
      "9413                    3  22.599979  1.423343 -0.719258  0.943902  7.131840   \n",
      "9581                    8  22.664273  1.351248 -0.844285  1.030433  7.309753   \n",
      "...                   ...        ...       ...       ...       ...       ...   \n",
      "1153151                10  14.880432  3.338992  3.022188 -2.698525  0.386081   \n",
      "1153152                10  14.880432  3.338992  3.022188 -2.698525  0.386081   \n",
      "1153153                10  14.880432  3.338992  3.022188 -2.698525  0.386081   \n",
      "1153827                 1   9.593155  1.130013  0.413774 -0.736898  4.253682   \n",
      "1153952                 1   9.593155  1.130013  0.413774 -0.736898  4.253682   \n",
      "\n",
      "         Anomaly  \n",
      "9410          -1  \n",
      "9411          -1  \n",
      "9412          -1  \n",
      "9413          -1  \n",
      "9581          -1  \n",
      "...          ...  \n",
      "1153151       -1  \n",
      "1153152       -1  \n",
      "1153153       -1  \n",
      "1153827       -1  \n",
      "1153952       -1  \n",
      "\n",
      "[20930 rows x 33 columns]\n"
     ]
    }
   ],
   "source": [
    "\n",
    "\n",
    "# import matplotlib.pyplot as plt\n",
    "\n",
    "# # Plotting time gaps and anomalies\n",
    "# plt.figure(figsize=(12, 6))\n",
    "# plt.plot(df['ROI_CLICK_EVENT_TS'], df['time_diff'], label='Time Gaps')\n",
    "# plt.scatter(df[df['anomaly']]['ROI_CLICK_EVENT_TS'], df[df['anomaly']]['time_diff'], color='red', label='Anomalies', zorder=5)\n",
    "# plt.legend()\n",
    "# plt.show()\n",
    "buyers_with_anomaly = df[df['Anomaly'] == -1]\n",
    "\n",
    "# Print the 'buyer_id' column for those rows\n",
    "buyer_counts = buyers_with_anomaly['buyer_id'].value_counts()\n",
    "\n",
    "# Print the buyer IDs along with their occurrences\n",
    "buyers_gt_100 = buyer_counts[buyer_counts > 100].index\n",
    "\n",
    "# Create a new DataFrame with those buyer_ids\n",
    "df_gt_100 = buyers_with_anomaly[buyers_with_anomaly['buyer_id'].isin(buyers_gt_100)]\n",
    "\n",
    "# Print the new DataFrame\n",
    "print(df_gt_100)\n"
   ]
  },
  {
   "cell_type": "code",
   "execution_count": 14,
   "metadata": {},
   "outputs": [],
   "source": [
    "# df_gt_100.shape\n",
    "df_gt_100 = df_gt_100[[\n",
    "    'CLNT_RMT_IP', 'ROI_CLICK_EVENT_TS', 'BRWSR_NAME', 'ams_pblshr_id', \n",
    "    'buyer_id', 'click_id', 'buyer_time_diff', 'ip_time_diff', 'Anomaly', \n",
    "    'buyer_clicks_per_minute', 'ip_clicks_per_minute'\n",
    "]]\n",
    "df_gt_100.to_csv('../data/csv/anamoly_click_pattern/df_gt_100_click_fraud_detection_results_time_feeatures.csv', index=False)\n",
    "# print(final_df.head())\n"
   ]
  },
  {
   "cell_type": "code",
   "execution_count": 13,
   "metadata": {},
   "outputs": [
    {
     "data": {
      "text/plain": [
       "Index(['CLNT_RMT_IP', 'ROI_CLICK_EVENT_TS', 'BRWSR_NAME', 'ams_pblshr_id',\n",
       "       'buyer_id', 'click_id', 'buyer_time_diff', 'ip_time_diff', 'minute',\n",
       "       'buyer_clicks_per_minute', 'ip_clicks_per_minute',\n",
       "       'buyer_time_diff_mean', 'buyer_time_diff_median', 'buyer_time_diff_std',\n",
       "       'buyer_clicks_per_minute_mean', 'buyer_clicks_per_minute_max',\n",
       "       'buyer_clicks_per_minute_std', 'ip_time_diff_mean',\n",
       "       'ip_time_diff_median', 'ip_time_diff_std', 'ip_clicks_per_minute_mean',\n",
       "       'ip_clicks_per_minute_max', 'ip_clicks_per_minute_std',\n",
       "       'CLNT_RMT_IP_encoded', 'ams_pblshr_id_encoded', 'buyer_id_encoded',\n",
       "       'click_id_encoded', 'PC1', 'PC2', 'PC3', 'PC4', 'PC5', 'Anomaly'],\n",
       "      dtype='object')"
      ]
     },
     "execution_count": 13,
     "metadata": {},
     "output_type": "execute_result"
    }
   ],
   "source": [
    "# anomalous_rows = df[df['anomaly']]\n",
    "\n",
    "# # Show the first few anomalous rows\n",
    "# print(anomalous_rows.head())\n",
    "df_gt_100.columns"
   ]
  },
  {
   "cell_type": "code",
   "execution_count": null,
   "metadata": {},
   "outputs": [
    {
     "data": {
      "text/plain": [
       "(36505, 11)"
      ]
     },
     "execution_count": 32,
     "metadata": {},
     "output_type": "execute_result"
    }
   ],
   "source": [
    "# anomalous_rows.shape"
   ]
  },
  {
   "cell_type": "code",
   "execution_count": null,
   "metadata": {},
   "outputs": [
    {
     "name": "stdout",
     "output_type": "stream",
     "text": [
      "            CLNT_RMT_IP  ROI_CLICK_EVENT_TS  \\\n",
      "481168  172.225.184.187 2022-09-28 09:00:05   \n",
      "957065     172.225.6.64 2024-09-19 10:20:24   \n",
      "586981  195.181.174.227 2022-05-22 15:57:24   \n",
      "586982  195.181.174.227 2022-05-22 16:02:30   \n",
      "586983  195.181.174.227 2022-05-22 16:26:13   \n",
      "\n",
      "                                               BRWSR_NAME  ams_pblshr_id  \\\n",
      "481168  Mozilla/5.0 (iPhone; CPU iPhone OS 16_0_2 like...     5575403800   \n",
      "957065  Mozilla/5.0 (iPhone; CPU iPhone OS 18_0 like M...     5574635388   \n",
      "586981  ebayUserAgent/eBayIOS;6.60.0;iOS;15.4.1;Apple;...     5575532731   \n",
      "586982  ebayUserAgent/eBayIOS;6.60.0;iOS;15.4.1;Apple;...     5575532731   \n",
      "586983  ebayUserAgent/eBayIOS;6.60.0;iOS;15.4.1;Apple;...     5575532731   \n",
      "\n",
      "             buyer_id            click_id  time_diff              minute  \\\n",
      "481168     !!!eule!!!  218153671260927361        0.0 2022-09-28 09:00:00   \n",
      "957065  !!!scheela!!!  226330661662892416        0.0 2024-09-19 10:20:00   \n",
      "586981        !!mat!!  216694068570109312        0.0 2022-05-22 15:57:00   \n",
      "586982        !!mat!!  216694068570109312      306.0 2022-05-22 16:02:00   \n",
      "586983        !!mat!!  216694068570109312     1423.0 2022-05-22 16:26:00   \n",
      "\n",
      "        hmm_state  log_likelihood  anomaly  \n",
      "481168          0       -1.121539    False  \n",
      "957065          0       -1.121539    False  \n",
      "586981          0      -36.925243    False  \n",
      "586982          0      -36.925243    False  \n",
      "586983          0      -36.925243    False  \n"
     ]
    }
   ],
   "source": [
    "# non_anomalous_rows = df[~df['anomaly']]\n",
    "\n",
    "# # Show the first few anomalous rows\n",
    "# print(non_anomalous_rows.head())\n"
   ]
  },
  {
   "cell_type": "code",
   "execution_count": null,
   "metadata": {},
   "outputs": [
    {
     "data": {
      "text/plain": [
       "(1217738, 11)"
      ]
     },
     "execution_count": 34,
     "metadata": {},
     "output_type": "execute_result"
    }
   ],
   "source": [
    "# non_anomalous_rows.shape"
   ]
  },
  {
   "cell_type": "code",
   "execution_count": null,
   "metadata": {},
   "outputs": [
    {
     "data": {
      "text/plain": [
       "buyer_id\n",
       "alphaseeker    3224\n",
       "yangbangban    2805\n",
       "social_lite    2794\n",
       "kennyb-0       2657\n",
       "lostandlost    2360\n",
       "               ... \n",
       "zzr600d3          1\n",
       "zzr611            1\n",
       "zzrd411           1\n",
       "zzrwolfi          1\n",
       "zzseller          1\n",
       "Name: count, Length: 465394, dtype: int64"
      ]
     },
     "execution_count": 35,
     "metadata": {},
     "output_type": "execute_result"
    }
   ],
   "source": [
    "# non_anomalous_rows['buyer_id'].value_counts()"
   ]
  },
  {
   "cell_type": "code",
   "execution_count": 24,
   "metadata": {},
   "outputs": [
    {
     "data": {
      "text/plain": [
       "buyer_id\n",
       "ndeals80          8220\n",
       "timhu_11          7102\n",
       "ndeals60          6489\n",
       "supenko2          5622\n",
       "ndeals90          4889\n",
       "                  ... \n",
       "keepitcrazy         94\n",
       "stit6509            94\n",
       "headbodyhead        94\n",
       "wentwelltheday      94\n",
       "harham_8189         93\n",
       "Name: count, Length: 416, dtype: int64"
      ]
     },
     "execution_count": 24,
     "metadata": {},
     "output_type": "execute_result"
    }
   ],
   "source": [
    "anomalous_rows['buyer_id'].value_counts()"
   ]
  },
  {
   "cell_type": "code",
   "execution_count": 37,
   "metadata": {},
   "outputs": [],
   "source": [
    "df.to_csv('../data/csv/anamoly_click_pattern/anamoly_data.csv')"
   ]
  },
  {
   "cell_type": "code",
   "execution_count": 27,
   "metadata": {},
   "outputs": [
    {
     "data": {
      "text/plain": [
       "(1254243, 11)"
      ]
     },
     "execution_count": 27,
     "metadata": {},
     "output_type": "execute_result"
    }
   ],
   "source": [
    "df.shape"
   ]
  },
  {
   "cell_type": "markdown",
   "metadata": {},
   "source": [
    "## Aggregate Features"
   ]
  },
  {
   "cell_type": "code",
   "execution_count": null,
   "metadata": {},
   "outputs": [
    {
     "name": "stdout",
     "output_type": "stream",
     "text": [
      "False False\n"
     ]
    }
   ],
   "source": [
    "# df['ROI_CLICK_EVENT_TS'] = pd.to_datetime(df['ROI_CLICK_EVENT_TS'])\n",
    "# df = df.sort_values(['CLNT_RMT_IP', 'ROI_CLICK_EVENT_TS'])\n",
    "# df['time_diff_ip'] = df.groupby('CLNT_RMT_IP')['ROI_CLICK_EVENT_TS'].diff().dt.total_seconds().fillna(0)\n",
    "# Aggregated features for each buyer\n",
    "# Aggregated features for each buyer\n",
    "# buyer_features = df.groupby('buyer_id').agg({\n",
    "#     'buyer_time_diff': ['mean', 'median', 'std'],\n",
    "#     'buyer_clicks_per_minute': ['mean', 'max', 'std'],\n",
    "#     'ip_time_diff': ['mean', 'median', 'std'],\n",
    "#     'ip_clicks_per_minute': ['mean', 'max', 'std']\n",
    "# }).reset_index()\n",
    "\n",
    "# # Flatten multi-level columns\n",
    "# buyer_features.columns = ['_'.join(col).strip() for col in buyer_features.columns]\n",
    "# buyer_features = buyer_features.rename(columns={'buyer_id_': 'buyer_id'})\n",
    "\n",
    "# print(np.any(np.isnan(X_scaled)), np.any(np.isinf(X_scaled)))"
   ]
  },
  {
   "cell_type": "code",
   "execution_count": null,
   "metadata": {},
   "outputs": [
    {
     "name": "stdout",
     "output_type": "stream",
     "text": [
      "                  ROI_CLICK_EVENT_TS  ams_pblshr_id      click_id  \\\n",
      "count                        1254243   1.254243e+06  1.254243e+06   \n",
      "mean   2023-04-29 04:45:47.277674240   5.575137e+09  2.205623e+17   \n",
      "min              2020-07-02 10:34:33   5.574628e+09  2.088909e+17   \n",
      "1%        2020-09-02 14:29:29.260000   5.574631e+09  2.095939e+17   \n",
      "50%              2023-09-10 07:22:23   5.575134e+09  2.220814e+17   \n",
      "99%       2024-11-04 10:59:55.480000   5.575751e+09  2.268510e+17   \n",
      "max              2024-11-11 23:59:57   5.575799e+09  2.269373e+17   \n",
      "std                              NaN   3.820568e+05  4.971967e+15   \n",
      "\n",
      "       buyer_time_diff  ip_time_diff                         minute  \\\n",
      "count     1.254243e+06  1.254243e+06                        1254243   \n",
      "mean      2.353903e+06  3.723367e+05  2023-04-29 04:45:17.700445696   \n",
      "min       0.000000e+00  0.000000e+00            2020-07-02 10:34:00   \n",
      "1%        0.000000e+00  2.000000e+00     2020-09-02 14:29:15.600000   \n",
      "50%       1.740000e+02  4.118900e+04            2023-09-10 07:22:00   \n",
      "99%       4.382947e+07  5.643500e+06            2024-11-04 10:59:00   \n",
      "max       1.344600e+08  1.340118e+08            2024-11-11 23:59:00   \n",
      "std       8.386411e+06  2.009351e+06                            NaN   \n",
      "\n",
      "       buyer_clicks_per_minute  ip_clicks_per_minute  \n",
      "count             1.254243e+06          1.254243e+06  \n",
      "mean              1.227902e+00          1.167650e+00  \n",
      "min               1.000000e+00          1.000000e+00  \n",
      "1%                1.000000e+00          1.000000e+00  \n",
      "50%               1.000000e+00          1.000000e+00  \n",
      "99%               5.000000e+00          4.000000e+00  \n",
      "max               3.300000e+01          3.300000e+01  \n",
      "std               8.459598e-01          7.904152e-01  \n"
     ]
    }
   ],
   "source": [
    "# print(df.describe(percentiles=[0.01, 0.99]))  # Check for anomalies in data distribution\n",
    "\n"
   ]
  },
  {
   "cell_type": "code",
   "execution_count": null,
   "metadata": {},
   "outputs": [],
   "source": []
  }
 ],
 "metadata": {
  "kernelspec": {
   "display_name": "env",
   "language": "python",
   "name": "python3"
  },
  "language_info": {
   "codemirror_mode": {
    "name": "ipython",
    "version": 3
   },
   "file_extension": ".py",
   "mimetype": "text/x-python",
   "name": "python",
   "nbconvert_exporter": "python",
   "pygments_lexer": "ipython3",
   "version": "3.12.6"
  }
 },
 "nbformat": 4,
 "nbformat_minor": 2
}
