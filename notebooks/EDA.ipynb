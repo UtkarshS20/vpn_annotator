{
 "cells": [
  {
   "cell_type": "code",
   "execution_count": 2,
   "metadata": {},
   "outputs": [
    {
     "name": "stderr",
     "output_type": "stream",
     "text": [
      "C:\\Users\\ramegupta\\AppData\\Local\\Temp\\ipykernel_12524\\3663271736.py:43: UserWarning: pandas only supports SQLAlchemy connectable (engine/connection) or database string URI or sqlite3 DBAPI2 connection. Other DBAPI2 objects are not tested. Please consider using SQLAlchemy.\n",
      "  df_chunk = pd.read_sql_query(paginated_query, conn)\n",
      "C:\\Users\\ramegupta\\AppData\\Local\\Temp\\ipykernel_12524\\3663271736.py:43: UserWarning: pandas only supports SQLAlchemy connectable (engine/connection) or database string URI or sqlite3 DBAPI2 connection. Other DBAPI2 objects are not tested. Please consider using SQLAlchemy.\n",
      "  df_chunk = pd.read_sql_query(paginated_query, conn)\n",
      "C:\\Users\\ramegupta\\AppData\\Local\\Temp\\ipykernel_12524\\3663271736.py:43: UserWarning: pandas only supports SQLAlchemy connectable (engine/connection) or database string URI or sqlite3 DBAPI2 connection. Other DBAPI2 objects are not tested. Please consider using SQLAlchemy.\n",
      "  df_chunk = pd.read_sql_query(paginated_query, conn)\n",
      "C:\\Users\\ramegupta\\AppData\\Local\\Temp\\ipykernel_12524\\3663271736.py:43: UserWarning: pandas only supports SQLAlchemy connectable (engine/connection) or database string URI or sqlite3 DBAPI2 connection. Other DBAPI2 objects are not tested. Please consider using SQLAlchemy.\n",
      "  df_chunk = pd.read_sql_query(paginated_query, conn)\n",
      "C:\\Users\\ramegupta\\AppData\\Local\\Temp\\ipykernel_12524\\3663271736.py:43: UserWarning: pandas only supports SQLAlchemy connectable (engine/connection) or database string URI or sqlite3 DBAPI2 connection. Other DBAPI2 objects are not tested. Please consider using SQLAlchemy.\n",
      "  df_chunk = pd.read_sql_query(paginated_query, conn)\n",
      "C:\\Users\\ramegupta\\AppData\\Local\\Temp\\ipykernel_12524\\3663271736.py:43: UserWarning: pandas only supports SQLAlchemy connectable (engine/connection) or database string URI or sqlite3 DBAPI2 connection. Other DBAPI2 objects are not tested. Please consider using SQLAlchemy.\n",
      "  df_chunk = pd.read_sql_query(paginated_query, conn)\n",
      "C:\\Users\\ramegupta\\AppData\\Local\\Temp\\ipykernel_12524\\3663271736.py:43: UserWarning: pandas only supports SQLAlchemy connectable (engine/connection) or database string URI or sqlite3 DBAPI2 connection. Other DBAPI2 objects are not tested. Please consider using SQLAlchemy.\n",
      "  df_chunk = pd.read_sql_query(paginated_query, conn)\n",
      "C:\\Users\\ramegupta\\AppData\\Local\\Temp\\ipykernel_12524\\3663271736.py:43: UserWarning: pandas only supports SQLAlchemy connectable (engine/connection) or database string URI or sqlite3 DBAPI2 connection. Other DBAPI2 objects are not tested. Please consider using SQLAlchemy.\n",
      "  df_chunk = pd.read_sql_query(paginated_query, conn)\n",
      "C:\\Users\\ramegupta\\AppData\\Local\\Temp\\ipykernel_12524\\3663271736.py:43: UserWarning: pandas only supports SQLAlchemy connectable (engine/connection) or database string URI or sqlite3 DBAPI2 connection. Other DBAPI2 objects are not tested. Please consider using SQLAlchemy.\n",
      "  df_chunk = pd.read_sql_query(paginated_query, conn)\n",
      "C:\\Users\\ramegupta\\AppData\\Local\\Temp\\ipykernel_12524\\3663271736.py:43: UserWarning: pandas only supports SQLAlchemy connectable (engine/connection) or database string URI or sqlite3 DBAPI2 connection. Other DBAPI2 objects are not tested. Please consider using SQLAlchemy.\n",
      "  df_chunk = pd.read_sql_query(paginated_query, conn)\n",
      "C:\\Users\\ramegupta\\AppData\\Local\\Temp\\ipykernel_12524\\3663271736.py:43: UserWarning: pandas only supports SQLAlchemy connectable (engine/connection) or database string URI or sqlite3 DBAPI2 connection. Other DBAPI2 objects are not tested. Please consider using SQLAlchemy.\n",
      "  df_chunk = pd.read_sql_query(paginated_query, conn)\n",
      "C:\\Users\\ramegupta\\AppData\\Local\\Temp\\ipykernel_12524\\3663271736.py:43: UserWarning: pandas only supports SQLAlchemy connectable (engine/connection) or database string URI or sqlite3 DBAPI2 connection. Other DBAPI2 objects are not tested. Please consider using SQLAlchemy.\n",
      "  df_chunk = pd.read_sql_query(paginated_query, conn)\n",
      "C:\\Users\\ramegupta\\AppData\\Local\\Temp\\ipykernel_12524\\3663271736.py:43: UserWarning: pandas only supports SQLAlchemy connectable (engine/connection) or database string URI or sqlite3 DBAPI2 connection. Other DBAPI2 objects are not tested. Please consider using SQLAlchemy.\n",
      "  df_chunk = pd.read_sql_query(paginated_query, conn)\n",
      "C:\\Users\\ramegupta\\AppData\\Local\\Temp\\ipykernel_12524\\3663271736.py:43: UserWarning: pandas only supports SQLAlchemy connectable (engine/connection) or database string URI or sqlite3 DBAPI2 connection. Other DBAPI2 objects are not tested. Please consider using SQLAlchemy.\n",
      "  df_chunk = pd.read_sql_query(paginated_query, conn)\n"
     ]
    },
    {
     "name": "stdout",
     "output_type": "stream",
     "text": [
      "   id     CLNT_RMT_IP  ROI_CLICK_EVENT_TS  \\\n",
      "0   1  77.111.247.168 2020-08-02 18:37:01   \n",
      "1   2   66.249.73.101 2020-08-21 03:36:38   \n",
      "2   3  77.111.247.129 2020-08-21 03:36:38   \n",
      "3   4   66.249.73.101 2020-08-21 03:36:33   \n",
      "4   5  77.111.247.129 2020-08-21 03:36:33   \n",
      "\n",
      "                                          BRWSR_NAME  ams_trans_rsn_cd  \\\n",
      "0  Mozilla/5.0 (Windows NT 10.0; Win64; x64) Appl...                 0   \n",
      "1  Mozilla/5.0 (Windows NT 10.0; Win64; x64) Appl...                 0   \n",
      "2  Mozilla/5.0 (Windows NT 10.0; Win64; x64) Appl...                 0   \n",
      "3  Mozilla/5.0 (Windows NT 10.0; Win64; x64) Appl...                 0   \n",
      "4  Mozilla/5.0 (Windows NT 10.0; Win64; x64) Appl...                 0   \n",
      "\n",
      "  ams_pblshr_id    buyer_id  is_vpn            click_id  \n",
      "0    5574672411   valen_949       1  209245484389035777  \n",
      "1    5574672411  morbanisaf       1  209453736892211586  \n",
      "2    5574672411  morbanisaf       1  209453736892211586  \n",
      "3    5574672411  morbanisaf       1  209453736892211586  \n",
      "4    5574672411  morbanisaf       1  209453736892211586  \n"
     ]
    }
   ],
   "source": [
    "import pyodbc\n",
    "import mysql.connector\n",
    "import dask.dataframe as dd\n",
    "import pandas as pd\n",
    "# from scripts.db_utils import create_ebay_connection\n",
    "import os \n",
    "from dotenv import load_dotenv\n",
    "\n",
    "load_dotenv()\n",
    "\n",
    "def create_ebay_connection():\n",
    "    \"\"\"Create connection to the hosted SQL Server database for IP addresses.\"\"\"\n",
    "    try:\n",
    "        connection = pyodbc.connect(\n",
    "            f\"DRIVER={{MySQL ODBC 9.1 Unicode Driver}};\"\n",
    "            f\"SERVER={os.getenv('EBAY_DB_HOST')};\"\n",
    "            f\"DATABASE={os.getenv('EBAY_DB_NAME')};\"\n",
    "            f\"UID={os.getenv('EBAY_DB_USER')};\"\n",
    "            f\"PWD={os.getenv('EBAY_DB_PASSWORD')}\"\n",
    "        )\n",
    "        return connection\n",
    "    except pyodbc.Error as e:\n",
    "        print(f\"Error connecting to hosted database: {e}\")\n",
    "        return None\n",
    "# Database connection parameters\n",
    "conn = create_ebay_connection()\n",
    "\n",
    "query = \"SELECT * FROM tbl_iptrace_user_activity where ams_trans_rsn_cd=0\"\n",
    "\n",
    "\n",
    "\n",
    "\n",
    "def fetch_data_in_chunks(conn, query, chunk_size=100000):\n",
    "    \"\"\"\n",
    "    Fetch data from the database in chunks, then convert to Dask DataFrame.\n",
    "    \"\"\"\n",
    "    offset = 0\n",
    "    while True:\n",
    "        # Modify the query to include pagination using LIMIT and OFFSET for chunks\n",
    "        paginated_query = f\"{query} LIMIT {chunk_size} OFFSET {offset}\"\n",
    "        \n",
    "        # Fetch data in chunks using pandas (it handles column and row alignment internally)\n",
    "        df_chunk = pd.read_sql_query(paginated_query, conn)\n",
    "        \n",
    "        if df_chunk.empty:\n",
    "            break\n",
    "        \n",
    "        # Convert to Dask DataFrame\n",
    "        dask_df = dd.from_pandas(df_chunk, npartitions=4)\n",
    "        \n",
    "        yield dask_df\n",
    "        \n",
    "        offset += chunk_size\n",
    "\n",
    "\n",
    "dask_chunks = []\n",
    "\n",
    "# Fetch chunks and store them in the list\n",
    "for dask_df_chunk in fetch_data_in_chunks(conn, query, chunk_size=100000):\n",
    "    dask_chunks.append(dask_df_chunk)\n",
    "\n",
    "# Concatenate all chunks into a single Dask DataFrame\n",
    "full_dask_df = dd.concat(dask_chunks)\n",
    "\n",
    "# Now you can perform operations on full_dask_df\n",
    "# result = full_dask_df.groupby('some_column').agg({'another_column': 'mean'})\n",
    "\n",
    "# Compute the result\n",
    "# computed_result = result.compute()\n",
    "\n",
    "# Show the result\n",
    "print(full_dask_df.head())\n"
   ]
  },
  {
   "cell_type": "code",
   "execution_count": 3,
   "metadata": {},
   "outputs": [
    {
     "name": "stdout",
     "output_type": "stream",
     "text": [
      "Rows: 1254243, Columns: 9\n"
     ]
    }
   ],
   "source": [
    "# Get the shape of the DataFrame (number of rows and columns)\n",
    "num_rows, num_columns = full_dask_df.shape[0].compute(), full_dask_df.shape[1]\n",
    "\n",
    "print(f\"Rows: {num_rows}, Columns: {num_columns}\")\n"
   ]
  },
  {
   "cell_type": "code",
   "execution_count": 1,
   "metadata": {},
   "outputs": [
    {
     "name": "stdout",
     "output_type": "stream",
     "text": [
      "Dask DataFrame Structure:\n",
      "                  id CLNT_RMT_IP ROI_CLICK_EVENT_TS BRWSR_NAME ams_trans_rsn_cd ams_pblshr_id buyer_id is_vpn click_id\n",
      "npartitions=1                                                                                                         \n",
      "0              int64      string             string     string            int64        string   string  int64   string\n",
      "4                ...         ...                ...        ...              ...           ...      ...    ...      ...\n",
      "Dask Name: frompandas, 1 expression\n",
      "Expr=df\n"
     ]
    }
   ],
   "source": [
    "# import dask.dataframe as dd\n",
    "# import pandas as pd\n",
    "\n",
    "\n",
    "# data_dict = {\n",
    "#     \"id\": [1, 2, 3, 4, 5],\n",
    "#     \"CLNT_RMT_IP\": [\"77.111.247.168\", \"66.249.73.101\", \"77.111.247.129\", \"66.249.73.101\", \"77.111.247.129\"],\n",
    "#     \"ROI_CLICK_EVENT_TS\": [\"2020-08-02 18:37:01\", \"2020-08-21 03:36:38\", \"2020-08-21 03:36:38\", \"2020-08-21 03:36:33\", \"2020-08-21 03:36:33\"],\n",
    "#     \"BRWSR_NAME\": [\n",
    "#         \"Mozilla/5.0 (Windows NT 10.0; Win64; x64) AppleWebKit/537.36 (KHTML, like Gecko) Chrome/84.0.4147.125 Safari/537.36\",\n",
    "#         \"Mozilla/5.0 (Windows NT 10.0; Win64; x64) AppleWebKit/537.36 (KHTML, like Gecko) Chrome/84.0.4147.125 Safari/537.36\",\n",
    "#         \"Mozilla/5.0 (Windows NT 10.0; Win64; x64) AppleWebKit/537.36 (KHTML, like Gecko) Chrome/84.0.4147.125 Safari/537.36\",\n",
    "#         \"Mozilla/5.0 (Windows NT 10.0; Win64; x64) AppleWebKit/537.36 (KHTML, like Gecko) Chrome/84.0.4147.125 Safari/537.36\",\n",
    "#         \"Mozilla/5.0 (Windows NT 10.0; Win64; x64) AppleWebKit/537.36 (KHTML, like Gecko) Chrome/84.0.4147.125 Safari/537.36\"\n",
    "#     ],\n",
    "#     \"ams_trans_rsn_cd\": [0, 0, 0, 0, 0],\n",
    "#     \"ams_pblshr_id\": [\"5574672411\", \"5574672411\", \"5574672411\", \"5574672411\", \"5574672411\"],\n",
    "#     \"buyer_id\": [\"valen_949\", \"morbanisaf\", \"morbanisaf\", \"morbanisaf\", \"morbanisaf\"],\n",
    "#     \"is_vpn\": [1, 1, 1, 1, 1],\n",
    "#     \"click_id\": [\"209245484389035777\", \"209453736892211586\", \"209453736892211586\", \"209453736892211586\", \"209453736892211586\"]\n",
    "# }\n",
    "# pandas_df = pd.DataFrame(data_dict)\n",
    "\n",
    "# # Convert the Pandas DataFrame to a Dask DataFrame\n",
    "# dask_df = dd.from_pandas(pandas_df, npartitions=1)\n",
    "\n",
    "# # Display the Dask DataFrame\n",
    "# print(dask_df)\n"
   ]
  },
  {
   "cell_type": "code",
   "execution_count": 4,
   "metadata": {},
   "outputs": [
    {
     "data": {
      "text/html": [
       "<div>\n",
       "<style scoped>\n",
       "    .dataframe tbody tr th:only-of-type {\n",
       "        vertical-align: middle;\n",
       "    }\n",
       "\n",
       "    .dataframe tbody tr th {\n",
       "        vertical-align: top;\n",
       "    }\n",
       "\n",
       "    .dataframe thead th {\n",
       "        text-align: right;\n",
       "    }\n",
       "</style>\n",
       "<table border=\"1\" class=\"dataframe\">\n",
       "  <thead>\n",
       "    <tr style=\"text-align: right;\">\n",
       "      <th></th>\n",
       "      <th>id</th>\n",
       "      <th>CLNT_RMT_IP</th>\n",
       "      <th>ROI_CLICK_EVENT_TS</th>\n",
       "      <th>BRWSR_NAME</th>\n",
       "      <th>ams_trans_rsn_cd</th>\n",
       "      <th>ams_pblshr_id</th>\n",
       "      <th>buyer_id</th>\n",
       "      <th>is_vpn</th>\n",
       "      <th>click_id</th>\n",
       "    </tr>\n",
       "  </thead>\n",
       "  <tbody>\n",
       "    <tr>\n",
       "      <th>0</th>\n",
       "      <td>1</td>\n",
       "      <td>77.111.247.168</td>\n",
       "      <td>2020-08-02 18:37:01</td>\n",
       "      <td>Mozilla/5.0 (Windows NT 10.0; Win64; x64) Appl...</td>\n",
       "      <td>0</td>\n",
       "      <td>5574672411</td>\n",
       "      <td>valen_949</td>\n",
       "      <td>1</td>\n",
       "      <td>209245484389035777</td>\n",
       "    </tr>\n",
       "    <tr>\n",
       "      <th>1</th>\n",
       "      <td>2</td>\n",
       "      <td>66.249.73.101</td>\n",
       "      <td>2020-08-21 03:36:38</td>\n",
       "      <td>Mozilla/5.0 (Windows NT 10.0; Win64; x64) Appl...</td>\n",
       "      <td>0</td>\n",
       "      <td>5574672411</td>\n",
       "      <td>morbanisaf</td>\n",
       "      <td>1</td>\n",
       "      <td>209453736892211586</td>\n",
       "    </tr>\n",
       "    <tr>\n",
       "      <th>2</th>\n",
       "      <td>3</td>\n",
       "      <td>77.111.247.129</td>\n",
       "      <td>2020-08-21 03:36:38</td>\n",
       "      <td>Mozilla/5.0 (Windows NT 10.0; Win64; x64) Appl...</td>\n",
       "      <td>0</td>\n",
       "      <td>5574672411</td>\n",
       "      <td>morbanisaf</td>\n",
       "      <td>1</td>\n",
       "      <td>209453736892211586</td>\n",
       "    </tr>\n",
       "    <tr>\n",
       "      <th>3</th>\n",
       "      <td>4</td>\n",
       "      <td>66.249.73.101</td>\n",
       "      <td>2020-08-21 03:36:33</td>\n",
       "      <td>Mozilla/5.0 (Windows NT 10.0; Win64; x64) Appl...</td>\n",
       "      <td>0</td>\n",
       "      <td>5574672411</td>\n",
       "      <td>morbanisaf</td>\n",
       "      <td>1</td>\n",
       "      <td>209453736892211586</td>\n",
       "    </tr>\n",
       "    <tr>\n",
       "      <th>4</th>\n",
       "      <td>5</td>\n",
       "      <td>77.111.247.129</td>\n",
       "      <td>2020-08-21 03:36:33</td>\n",
       "      <td>Mozilla/5.0 (Windows NT 10.0; Win64; x64) Appl...</td>\n",
       "      <td>0</td>\n",
       "      <td>5574672411</td>\n",
       "      <td>morbanisaf</td>\n",
       "      <td>1</td>\n",
       "      <td>209453736892211586</td>\n",
       "    </tr>\n",
       "  </tbody>\n",
       "</table>\n",
       "</div>"
      ],
      "text/plain": [
       "   id     CLNT_RMT_IP  ROI_CLICK_EVENT_TS  \\\n",
       "0   1  77.111.247.168 2020-08-02 18:37:01   \n",
       "1   2   66.249.73.101 2020-08-21 03:36:38   \n",
       "2   3  77.111.247.129 2020-08-21 03:36:38   \n",
       "3   4   66.249.73.101 2020-08-21 03:36:33   \n",
       "4   5  77.111.247.129 2020-08-21 03:36:33   \n",
       "\n",
       "                                          BRWSR_NAME  ams_trans_rsn_cd  \\\n",
       "0  Mozilla/5.0 (Windows NT 10.0; Win64; x64) Appl...                 0   \n",
       "1  Mozilla/5.0 (Windows NT 10.0; Win64; x64) Appl...                 0   \n",
       "2  Mozilla/5.0 (Windows NT 10.0; Win64; x64) Appl...                 0   \n",
       "3  Mozilla/5.0 (Windows NT 10.0; Win64; x64) Appl...                 0   \n",
       "4  Mozilla/5.0 (Windows NT 10.0; Win64; x64) Appl...                 0   \n",
       "\n",
       "  ams_pblshr_id    buyer_id  is_vpn            click_id  \n",
       "0    5574672411   valen_949       1  209245484389035777  \n",
       "1    5574672411  morbanisaf       1  209453736892211586  \n",
       "2    5574672411  morbanisaf       1  209453736892211586  \n",
       "3    5574672411  morbanisaf       1  209453736892211586  \n",
       "4    5574672411  morbanisaf       1  209453736892211586  "
      ]
     },
     "execution_count": 4,
     "metadata": {},
     "output_type": "execute_result"
    }
   ],
   "source": [
    "full_dask_df.head()"
   ]
  },
  {
   "cell_type": "code",
   "execution_count": 13,
   "metadata": {},
   "outputs": [
    {
     "name": "stdout",
     "output_type": "stream",
     "text": [
      "buyer_id\n",
      "*boilerman*          [35.178.179.218, 3.8.205.75, 66.249.73.128, 3....\n",
      "*cycle*sam*                            [185.198.190.4, 178.238.10.115]\n",
      "*hunter-gatherer*                                    [213.109.200.184]\n",
      "*isidore*            [77.111.247.44, 77.111.247.137, 77.111.247.71,...\n",
      "*katho*              [3.71.50.234, 3.75.132.246, 18.159.213.6, 18.1...\n",
      "                                           ...                        \n",
      "zohai-moham                                          [159.242.227.139]\n",
      "zosztatni0813                                          [185.46.137.15]\n",
      "zubintirani                                           [91.196.221.205]\n",
      "zwockel1978                                           [172.226.108.57]\n",
      "zzzmariezzz                                          [172.225.189.174]\n",
      "Name: CLNT_RMT_IP, Length: 465400, dtype: object\n"
     ]
    }
   ],
   "source": [
    "unique_ips_per_buyer = full_dask_df.groupby('buyer_id')['CLNT_RMT_IP'].unique().compute()\n",
    "\n",
    "# Display the result\n",
    "print(unique_ips_per_buyer)\n"
   ]
  },
  {
   "cell_type": "code",
   "execution_count": 6,
   "metadata": {},
   "outputs": [
    {
     "name": "stdout",
     "output_type": "stream",
     "text": [
      "Total clicks per IP:\n",
      "CLNT_RMT_IP\n",
      "103.219.20.158    69\n",
      "103.219.20.246    73\n",
      "103.219.20.54     76\n",
      "103.219.20.70     43\n",
      "104.28.240.84     17\n",
      "                  ..\n",
      "66.249.64.2        5\n",
      "157.230.101.95     1\n",
      "172.226.49.46      1\n",
      "185.93.180.110     1\n",
      "192.142.227.22     1\n",
      "Name: click_id, Length: 7915, dtype: int64\n"
     ]
    }
   ],
   "source": [
    "# Total click count from each IP\n",
    "total_clicks_per_ip = full_dask_df.groupby('CLNT_RMT_IP')['click_id'].count().compute()\n",
    "print(\"Total clicks per IP:\")\n",
    "print(total_clicks_per_ip)\n"
   ]
  },
  {
   "cell_type": "code",
   "execution_count": 7,
   "metadata": {},
   "outputs": [
    {
     "data": {
      "text/plain": [
       "Index(['id', 'CLNT_RMT_IP', 'ROI_CLICK_EVENT_TS', 'BRWSR_NAME',\n",
       "       'ams_trans_rsn_cd', 'ams_pblshr_id', 'buyer_id', 'is_vpn', 'click_id'],\n",
       "      dtype='object')"
      ]
     },
     "execution_count": 7,
     "metadata": {},
     "output_type": "execute_result"
    }
   ],
   "source": [
    "dask_df.columns"
   ]
  },
  {
   "cell_type": "code",
   "execution_count": 5,
   "metadata": {},
   "outputs": [
    {
     "name": "stdout",
     "output_type": "stream",
     "text": [
      "buyer_id\n",
      "morbanisaf    4\n",
      "valen_949     1\n",
      "dtype: int64\n"
     ]
    }
   ],
   "source": [
    "# Find the total click count per user\n",
    "clicks_per_user = dask_df.groupby('buyer_id').size().compute()\n",
    "\n",
    "# Display the result\n",
    "print(clicks_per_user)\n"
   ]
  },
  {
   "cell_type": "markdown",
   "metadata": {},
   "source": [
    "## Unique IPs associated with each user(for each publisher) and their click counts"
   ]
  },
  {
   "cell_type": "code",
   "execution_count": null,
   "metadata": {},
   "outputs": [],
   "source": [
    "# Combine multiple operations before computing\n",
    "result = dask_df.groupby('buyer_id')['CLNT_RMT_IP'].nunique().to_frame(name='unique_ips') \\\n",
    "                .merge(dask_df.groupby('buyer_id').size().to_frame(name='total_clicks'), \n",
    "                       left_index=True, right_index=True)\n",
    "\n",
    "# Trigger computation once\n",
    "result = result.compute()\n",
    "print(result)\n"
   ]
  },
  {
   "cell_type": "code",
   "execution_count": 12,
   "metadata": {},
   "outputs": [],
   "source": [
    "# Find the number of clicks per publisher, per user, and per IP\n",
    "# clicks_per_publisher_user_ip = full_dask_df.groupby(['ams_pblshr_id', 'buyer_id', 'CLNT_RMT_IP']).size().compute()\n",
    "\n",
    "# Display the result\n",
    "clicks_per_publisher_user_ip_df = clicks_per_publisher_user_ip.reset_index(name='click_count')\n",
    "\n",
    "# Export to CSV\n",
    "clicks_per_publisher_user_ip_df.to_csv('../data/csv/clicks_per_publisher_user_ip.csv', index=False)\n",
    "\n"
   ]
  },
  {
   "cell_type": "markdown",
   "metadata": {},
   "source": [
    "## How many users are associated with multiple publishers"
   ]
  },
  {
   "cell_type": "code",
   "execution_count": 9,
   "metadata": {},
   "outputs": [
    {
     "name": "stdout",
     "output_type": "stream",
     "text": [
      "buyer_id\n",
      "beapos_90           2\n",
      "frankopp            8\n",
      "wizardccb           2\n",
      "thailandthaiossi    3\n",
      "oldbloke7511        6\n",
      "                   ..\n",
      "pinkruby666         2\n",
      "pushfit0_1          2\n",
      "stevebg53           2\n",
      "dome1907            2\n",
      "eisprinzhessin      2\n",
      "Name: ams_pblshr_id, Length: 71896, dtype: int64\n"
     ]
    }
   ],
   "source": [
    "# Group by buyer_id and count the number of unique publishers\n",
    "users_multiple_publishers = full_dask_df.groupby('buyer_id')['ams_pblshr_id'].nunique()\n",
    "\n",
    "# Filter users who have more than one unique publisher\n",
    "users_multiple_publishers = users_multiple_publishers[users_multiple_publishers > 1]\n",
    "\n",
    "# Compute the result\n",
    "result = users_multiple_publishers.compute()\n",
    "print(result)\n"
   ]
  },
  {
   "cell_type": "code",
   "execution_count": 10,
   "metadata": {},
   "outputs": [
    {
     "name": "stdout",
     "output_type": "stream",
     "text": [
      "buyer_id\n",
      "segule_0             3\n",
      "pueri58              2\n",
      "moffettj             3\n",
      "vogel1111            2\n",
      "ttbebe_hr99lwfmu     2\n",
      "                    ..\n",
      "patrickgrumpy3       2\n",
      "brie_9999            2\n",
      "jatjat-1wfyltcqmt    2\n",
      "jugendrausch         2\n",
      "sm437946             2\n",
      "Name: ams_pblshr_id, Length: 71896, dtype: int64\n"
     ]
    }
   ],
   "source": [
    "# Group by buyer_id and ams_pblshr_id to check the unique combinations\n",
    "user_publisher_counts = full_dask_df.groupby('buyer_id')['ams_pblshr_id'].nunique()\n",
    "\n",
    "# Get users with more than one unique publisher\n",
    "users_with_multiple_publishers = user_publisher_counts[user_publisher_counts > 1]\n",
    "\n",
    "# Compute the result\n",
    "result = users_with_multiple_publishers.compute()\n",
    "print(result)\n"
   ]
  },
  {
   "cell_type": "code",
   "execution_count": null,
   "metadata": {},
   "outputs": [],
   "source": [
    "# Group by buyer_id to get unique ams_pblshr_id per user\n",
    "user_publishers = full_dask_df.groupby('buyer_id')['ams_pblshr_id'].unique()\n",
    "\n",
    "# Filter users with more than one unique publisher\n",
    "users_with_multiple_publishers = user_publishers[user_publishers.apply(len) > 1]\n",
    "\n",
    "# Compute the result\n",
    "result = users_with_multiple_publishers.compute()\n",
    "print(result)\n"
   ]
  },
  {
   "cell_type": "code",
   "execution_count": 16,
   "metadata": {},
   "outputs": [],
   "source": [
    "# unique_ips_per_buyer\n",
    "\n",
    "\n",
    "# unique_ips_per_buyer_df = unique_ips_per_buyer.reset_index(name='unique_ip')\n",
    "# unique_ips_per_buyer_df.head()\n",
    "# Export to CSV\n",
    "unique_ips_per_buyer_df.to_csv('../data/csv/unique_ips_per_buyer.csv', index=False)\n"
   ]
  },
  {
   "cell_type": "code",
   "execution_count": 21,
   "metadata": {},
   "outputs": [],
   "source": [
    "# unique_ips_counts_per_buyer = full_dask_df.groupby('buyer_id')['CLNT_RMT_IP'].nunique().compute()\n",
    "# unique_ips_counts_per_buyer_df = unique_ips_counts_per_buyer.reset_index(name='unique_ip')\n",
    "# unique_ips_counts_per_buyer_df.head()\n",
    "# Export to CSV\n",
    "unique_ips_counts_per_buyer_df.to_csv('../data/csv/unique_ips_counts_per_buyer.csv', index=False)\n"
   ]
  },
  {
   "cell_type": "code",
   "execution_count": 25,
   "metadata": {},
   "outputs": [],
   "source": [
    "value_counts = full_dask_df['CLNT_RMT_IP'].value_counts()\n",
    "\n",
    "# Trigger the computation and get the result\n",
    "# result = value_counts.compute()\n",
    "value_counts_df = value_counts.reset_index()\n",
    "value_counts_df.columns = ['7', 'count']\n",
    "\n",
    "# Display the result\n",
    "# print(result)\n"
   ]
  },
  {
   "cell_type": "code",
   "execution_count": 28,
   "metadata": {},
   "outputs": [
    {
     "data": {
      "text/plain": [
       "['c:\\\\Users\\\\ramegupta\\\\OneDrive - eBay Inc\\\\Desktop\\\\Utkarsh\\\\vpn-annotator\\\\vpn_annotator\\\\data\\\\csv\\\\click_counts_from_unique_ips.csv']"
      ]
     },
     "execution_count": 28,
     "metadata": {},
     "output_type": "execute_result"
    }
   ],
   "source": [
    "value_counts_df.to_csv('../data/csv/click_counts_from_unique_ips.csv', index=False, single_file=True)\n"
   ]
  },
  {
   "cell_type": "markdown",
   "metadata": {},
   "source": [
    "## Same IP se multiple buyers"
   ]
  },
  {
   "cell_type": "code",
   "execution_count": 36,
   "metadata": {},
   "outputs": [
    {
     "name": "stdout",
     "output_type": "stream",
     "text": [
      "         CLNT_RMT_IP                                           buyer_id  \\\n",
      "0     103.219.20.158  [losbolles, 11oss, waterfoil36, 8135denis, jim...   \n",
      "1     103.219.20.246  [theo-id, richardh4111, mmmfergus, gixerdave19...   \n",
      "2      103.219.20.54  [mak911s, hj85wales, admiralcasual, krihod-60,...   \n",
      "3      103.219.20.70  [olliejolly93, davesdomestics!, grelaine2012, ...   \n",
      "4      104.28.240.84  [lilycom_0, isatelle0, aymacom0, sabbir1199, p...   \n",
      "...              ...                                                ...   \n",
      "7887   146.70.173.76                             [jotenn0, p.serna2012]   \n",
      "7888    40.77.167.37                             [klitzekl, sweber1990]   \n",
      "7890  172.225.187.70                               [schmidtc1, s7bpk40]   \n",
      "7898  172.233.140.51                   [corn.international, sharo_9241]   \n",
      "7902    66.249.66.76                        [marplatense1956, ndeals80]   \n",
      "\n",
      "      buyer_count  \n",
      "0              46  \n",
      "1              47  \n",
      "2              49  \n",
      "3              37  \n",
      "4               5  \n",
      "...           ...  \n",
      "7887            2  \n",
      "7888            2  \n",
      "7890            2  \n",
      "7898            2  \n",
      "7902            2  \n",
      "\n",
      "[7223 rows x 3 columns]\n"
     ]
    }
   ],
   "source": [
    "# Step 1: Group by IP and get the unique buyer IDs per IP\n",
    "grouped_buyers = full_dask_df.groupby('CLNT_RMT_IP')['buyer_id'].unique()\n",
    "\n",
    "# Step 2: Compute and convert to a Pandas DataFrame\n",
    "grouped_buyers_df = grouped_buyers.compute().reset_index()\n",
    "\n",
    "# Step 3: Filter out IPs with only 1 unique buyer (i.e., IPs with multiple buyers)\n",
    "grouped_buyers_df = grouped_buyers_df[grouped_buyers_df['buyer_id'].apply(len) > 1]\n",
    "\n",
    "# Step 4: Add a new column for the count of unique buyers\n",
    "grouped_buyers_df['buyer_count'] = grouped_buyers_df['buyer_id'].apply(len)\n",
    "\n",
    "# Now, you have a DataFrame with IPs, the list of buyers, and the count of unique buyers\n",
    "print(grouped_buyers_df)\n",
    "\n",
    "# If you want to return this as a Dask DataFrame, you can re-create it as Dask DataFrame\n",
    "dask_filtered_df = dd.from_pandas(grouped_buyers_df, npartitions=4)  # adjust npartitions as needed\n"
   ]
  },
  {
   "cell_type": "code",
   "execution_count": 38,
   "metadata": {},
   "outputs": [
    {
     "data": {
      "text/plain": [
       "['c:\\\\Users\\\\ramegupta\\\\OneDrive - eBay Inc\\\\Desktop\\\\Utkarsh\\\\vpn-annotator\\\\vpn_annotator\\\\data\\\\csv\\\\same_ip_multiple_users.csv']"
      ]
     },
     "execution_count": 38,
     "metadata": {},
     "output_type": "execute_result"
    }
   ],
   "source": [
    "dask_filtered_df.head()\n",
    "dask_filtered_df.to_csv('../data/csv/same_ip_multiple_users.csv', index=False, single_file=True)\n"
   ]
  },
  {
   "cell_type": "markdown",
   "metadata": {},
   "source": [
    "## For an IP avg. count of clicks"
   ]
  },
  {
   "cell_type": "code",
   "execution_count": 45,
   "metadata": {},
   "outputs": [
    {
     "data": {
      "text/plain": [
       "Index(['id', 'CLNT_RMT_IP', 'ROI_CLICK_EVENT_TS', 'BRWSR_NAME',\n",
       "       'ams_trans_rsn_cd', 'ams_pblshr_id', 'buyer_id', 'is_vpn', 'click_id'],\n",
       "      dtype='object')"
      ]
     },
     "execution_count": 45,
     "metadata": {},
     "output_type": "execute_result"
    }
   ],
   "source": [
    "full_dask_df.columns"
   ]
  },
  {
   "cell_type": "code",
   "execution_count": 46,
   "metadata": {},
   "outputs": [
    {
     "name": "stdout",
     "output_type": "stream",
     "text": [
      "Average count of clicks per IP: 158.46405559065067\n"
     ]
    }
   ],
   "source": [
    "\n",
    "# Group by the 'CLNT_RMT_IP' and count the number of 'click_id' for each IP\n",
    "ip_click_counts = full_dask_df.groupby('CLNT_RMT_IP')['click_id'].count()\n",
    "\n",
    "# Now calculate the average of those counts\n",
    "average_clicks_per_ip = ip_click_counts.mean().compute()\n",
    "\n",
    "# Print the result\n",
    "print(\"Average count of clicks per IP:\", average_clicks_per_ip)\n"
   ]
  },
  {
   "cell_type": "code",
   "execution_count": 48,
   "metadata": {},
   "outputs": [
    {
     "name": "stdout",
     "output_type": "stream",
     "text": [
      "Average count of clicks per IP (where IP is associated with multiple users): 171.79260695002077\n"
     ]
    }
   ],
   "source": [
    "ip_buyer_counts = full_dask_df.groupby('CLNT_RMT_IP')['buyer_id'].nunique()\n",
    "\n",
    "# Step 2: Filter for IPs that are associated with more than one buyer_id\n",
    "multiple_user_ips = ip_buyer_counts[ip_buyer_counts > 1].index.compute()  # .compute() to get the actual list\n",
    "\n",
    "# Step 3: Filter the original DataFrame to keep only rows where the IP is in the multiple_user_ips list\n",
    "filtered_df = full_dask_df[full_dask_df['CLNT_RMT_IP'].isin(multiple_user_ips)]\n",
    "\n",
    "# Step 4: Group by 'CLNT_RMT_IP' and count the number of clicks for each IP\n",
    "ip_click_counts = filtered_df.groupby('CLNT_RMT_IP')['click_id'].count()\n",
    "\n",
    "# Step 5: Calculate the average number of clicks per IP\n",
    "average_clicks_per_ip = ip_click_counts.mean().compute()\n",
    "\n",
    "# Print the result\n",
    "print(\"Average count of clicks per IP (where IP is associated with multiple users):\", average_clicks_per_ip)\n",
    "\n"
   ]
  },
  {
   "cell_type": "code",
   "execution_count": null,
   "metadata": {},
   "outputs": [],
   "source": []
  }
 ],
 "metadata": {
  "kernelspec": {
   "display_name": "env",
   "language": "python",
   "name": "python3"
  },
  "language_info": {
   "codemirror_mode": {
    "name": "ipython",
    "version": 3
   },
   "file_extension": ".py",
   "mimetype": "text/x-python",
   "name": "python",
   "nbconvert_exporter": "python",
   "pygments_lexer": "ipython3",
   "version": "3.13.0"
  }
 },
 "nbformat": 4,
 "nbformat_minor": 2
}
