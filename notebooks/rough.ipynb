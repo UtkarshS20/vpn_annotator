{
 "cells": [
  {
   "cell_type": "code",
   "execution_count": null,
   "metadata": {},
   "outputs": [
    {
     "name": "stdout",
     "output_type": "stream",
     "text": [
      "   id     CLNT_RMT_IP   ROI_CLICK_EVENT_TS  \\\n",
      "0   1  77.111.247.168  2020-08-02 18:37:01   \n",
      "1   2   66.249.73.101  2020-08-21 03:36:38   \n",
      "2   3  77.111.247.129  2020-08-21 03:36:38   \n",
      "3   4   66.249.73.101  2020-08-21 03:36:33   \n",
      "4   5  77.111.247.129  2020-08-21 03:36:33   \n",
      "\n",
      "                                          BRWSR_NAME  ams_trans_rsn_cd  \\\n",
      "0  Mozilla/5.0 (Windows NT 10.0; Win64; x64) Appl...                 0   \n",
      "1  Mozilla/5.0 (Windows NT 10.0; Win64; x64) Appl...                 0   \n",
      "2  Mozilla/5.0 (Windows NT 10.0; Win64; x64) Appl...                 0   \n",
      "3  Mozilla/5.0 (Windows NT 10.0; Win64; x64) Appl...                 0   \n",
      "4  Mozilla/5.0 (Windows NT 10.0; Win64; x64) Appl...                 0   \n",
      "\n",
      "   ams_pblshr_id    buyer_id  is_vpn            click_id  \n",
      "0     5574672411   valen_949       1  209245484389035777  \n",
      "1     5574672411  morbanisaf       1  209453736892211586  \n",
      "2     5574672411  morbanisaf       1  209453736892211586  \n",
      "3     5574672411  morbanisaf       1  209453736892211586  \n",
      "4     5574672411  morbanisaf       1  209453736892211586  \n"
     ]
    }
   ],
   "source": [
    "import pandas as pd\n",
    "import os\n",
    "\n",
    "# Specify the folder containing your CSV files\n",
    "folder_path = '../data/csv/raw'\n",
    "\n",
    "# List all CSV files in the folder\n",
    "csv_files = [file for file in os.listdir(folder_path) if file.endswith('.csv')]\n",
    "\n",
    "# Initialize an empty list to hold DataFrames\n",
    "dfs = []\n",
    "\n",
    "# Loop through the CSV files and read them into DataFrames\n",
    "for file in csv_files:\n",
    "    file_path = os.path.join(folder_path, file)\n",
    "    df = pd.read_csv(file_path)\n",
    "    dfs.append(df)\n",
    "\n",
    "# Concatenate all the DataFrames into a single DataFrame\n",
    "combined_df = pd.concat(dfs, ignore_index=True)\n",
    "\n",
    "# Check the resulting DataFrame\n",
    "print(combined_df.head())\n"
   ]
  },
  {
   "cell_type": "code",
   "execution_count": 5,
   "metadata": {},
   "outputs": [],
   "source": [
    "combined_df.to_csv('../data/csv/data.csv', index=False)"
   ]
  },
  {
   "cell_type": "code",
   "execution_count": 3,
   "metadata": {},
   "outputs": [],
   "source": [
    "combined_df = combined_df.drop(columns=['id', 'ams_trans_rsn_cd', 'is_vpn'])\n"
   ]
  },
  {
   "cell_type": "code",
   "execution_count": 1,
   "metadata": {},
   "outputs": [],
   "source": [
    "import pandas as pd\n",
    "\n",
    "df = pd.read_csv('../data/csv/data.csv')"
   ]
  },
  {
   "cell_type": "code",
   "execution_count": null,
   "metadata": {},
   "outputs": [
    {
     "data": {
      "text/plain": [
       "7915"
      ]
     },
     "execution_count": 3,
     "metadata": {},
     "output_type": "execute_result"
    }
   ],
   "source": []
  },
  {
   "cell_type": "code",
   "execution_count": 9,
   "metadata": {},
   "outputs": [],
   "source": [
    "df = pd.read_csv('../data/csv/click_fraud_results.csv')"
   ]
  },
  {
   "cell_type": "code",
   "execution_count": 10,
   "metadata": {},
   "outputs": [
    {
     "name": "stdout",
     "output_type": "stream",
     "text": [
      "CLNT_RMT_IP\n",
      "155.94.160.29     25787\n",
      "77.111.247.44     12133\n",
      "217.146.82.84      8022\n",
      "45.32.194.187      7047\n",
      "45.79.54.78        6385\n",
      "                  ...  \n",
      "46.246.8.107          1\n",
      "192.142.227.20        1\n",
      "146.70.173.98         1\n",
      "172.226.162.12        1\n",
      "193.43.69.27          1\n",
      "Name: count, Length: 7915, dtype: int64\n"
     ]
    }
   ],
   "source": [
    "print(df['CLNT_RMT_IP'].value_counts())"
   ]
  },
  {
   "cell_type": "code",
   "execution_count": 8,
   "metadata": {},
   "outputs": [
    {
     "name": "stdout",
     "output_type": "stream",
     "text": [
      "buyer_id\n",
      "ndeals80           8220\n",
      "timhu_11           7102\n",
      "ndeals60           6489\n",
      "supenko2           5622\n",
      "ndeals90           4889\n",
      "                   ... \n",
      "nigelbattersby1       1\n",
      "mcc_47180             1\n",
      "2005gower             1\n",
      "anton-ball            1\n",
      "hargotheledge         1\n",
      "Name: count, Length: 465400, dtype: int64\n"
     ]
    }
   ],
   "source": [
    "print(df['buyer_id'].value_counts())"
   ]
  },
  {
   "cell_type": "code",
   "execution_count": 13,
   "metadata": {},
   "outputs": [],
   "source": [
    "is_fraud_df = df[df['is_fraud'] == 1]"
   ]
  },
  {
   "cell_type": "code",
   "execution_count": 14,
   "metadata": {},
   "outputs": [
    {
     "data": {
      "text/html": [
       "<div>\n",
       "<style scoped>\n",
       "    .dataframe tbody tr th:only-of-type {\n",
       "        vertical-align: middle;\n",
       "    }\n",
       "\n",
       "    .dataframe tbody tr th {\n",
       "        vertical-align: top;\n",
       "    }\n",
       "\n",
       "    .dataframe thead th {\n",
       "        text-align: right;\n",
       "    }\n",
       "</style>\n",
       "<table border=\"1\" class=\"dataframe\">\n",
       "  <thead>\n",
       "    <tr style=\"text-align: right;\">\n",
       "      <th></th>\n",
       "      <th>CLNT_RMT_IP</th>\n",
       "      <th>ROI_CLICK_EVENT_TS</th>\n",
       "      <th>ams_pblshr_id</th>\n",
       "      <th>buyer_id</th>\n",
       "      <th>fraud_cluster</th>\n",
       "      <th>is_fraud</th>\n",
       "    </tr>\n",
       "  </thead>\n",
       "  <tbody>\n",
       "    <tr>\n",
       "      <th>12</th>\n",
       "      <td>159.242.227.44</td>\n",
       "      <td>2021-05-16 06:44:46</td>\n",
       "      <td>5575086808</td>\n",
       "      <td>bevann522</td>\n",
       "      <td>1</td>\n",
       "      <td>1</td>\n",
       "    </tr>\n",
       "    <tr>\n",
       "      <th>14</th>\n",
       "      <td>185.46.137.14</td>\n",
       "      <td>2021-08-09 07:27:28</td>\n",
       "      <td>5575407436</td>\n",
       "      <td>peri_nalan</td>\n",
       "      <td>1</td>\n",
       "      <td>1</td>\n",
       "    </tr>\n",
       "    <tr>\n",
       "      <th>20</th>\n",
       "      <td>146.70.83.72</td>\n",
       "      <td>2021-12-05 14:01:39</td>\n",
       "      <td>5574933636</td>\n",
       "      <td>notasoutherner</td>\n",
       "      <td>1</td>\n",
       "      <td>1</td>\n",
       "    </tr>\n",
       "    <tr>\n",
       "      <th>21</th>\n",
       "      <td>146.70.83.72</td>\n",
       "      <td>2021-12-05 14:01:02</td>\n",
       "      <td>5574933636</td>\n",
       "      <td>notasoutherner</td>\n",
       "      <td>1</td>\n",
       "      <td>1</td>\n",
       "    </tr>\n",
       "    <tr>\n",
       "      <th>22</th>\n",
       "      <td>213.166.86.117</td>\n",
       "      <td>2021-12-15 10:05:59</td>\n",
       "      <td>5575376664</td>\n",
       "      <td>nicohtk</td>\n",
       "      <td>1</td>\n",
       "      <td>1</td>\n",
       "    </tr>\n",
       "    <tr>\n",
       "      <th>...</th>\n",
       "      <td>...</td>\n",
       "      <td>...</td>\n",
       "      <td>...</td>\n",
       "      <td>...</td>\n",
       "      <td>...</td>\n",
       "      <td>...</td>\n",
       "    </tr>\n",
       "    <tr>\n",
       "      <th>1254238</th>\n",
       "      <td>172.226.114.69</td>\n",
       "      <td>2024-09-05 11:04:49</td>\n",
       "      <td>5575612316</td>\n",
       "      <td>srw38</td>\n",
       "      <td>1</td>\n",
       "      <td>1</td>\n",
       "    </tr>\n",
       "    <tr>\n",
       "      <th>1254239</th>\n",
       "      <td>208.115.224.233</td>\n",
       "      <td>2024-09-29 06:41:18</td>\n",
       "      <td>5575532731</td>\n",
       "      <td>katzenklo_16</td>\n",
       "      <td>1</td>\n",
       "      <td>1</td>\n",
       "    </tr>\n",
       "    <tr>\n",
       "      <th>1254240</th>\n",
       "      <td>138.199.29.213</td>\n",
       "      <td>2024-10-09 03:15:37</td>\n",
       "      <td>5575319207</td>\n",
       "      <td>guyver13</td>\n",
       "      <td>1</td>\n",
       "      <td>1</td>\n",
       "    </tr>\n",
       "    <tr>\n",
       "      <th>1254241</th>\n",
       "      <td>172.225.240.192</td>\n",
       "      <td>2024-10-27 03:30:27</td>\n",
       "      <td>5575376664</td>\n",
       "      <td>winde_-129</td>\n",
       "      <td>1</td>\n",
       "      <td>1</td>\n",
       "    </tr>\n",
       "    <tr>\n",
       "      <th>1254242</th>\n",
       "      <td>172.226.114.83</td>\n",
       "      <td>2024-11-03 04:57:09</td>\n",
       "      <td>5575791307</td>\n",
       "      <td>monika_pl</td>\n",
       "      <td>1</td>\n",
       "      <td>1</td>\n",
       "    </tr>\n",
       "  </tbody>\n",
       "</table>\n",
       "<p>522054 rows × 6 columns</p>\n",
       "</div>"
      ],
      "text/plain": [
       "             CLNT_RMT_IP   ROI_CLICK_EVENT_TS  ams_pblshr_id        buyer_id  \\\n",
       "12        159.242.227.44  2021-05-16 06:44:46     5575086808       bevann522   \n",
       "14         185.46.137.14  2021-08-09 07:27:28     5575407436      peri_nalan   \n",
       "20          146.70.83.72  2021-12-05 14:01:39     5574933636  notasoutherner   \n",
       "21          146.70.83.72  2021-12-05 14:01:02     5574933636  notasoutherner   \n",
       "22        213.166.86.117  2021-12-15 10:05:59     5575376664         nicohtk   \n",
       "...                  ...                  ...            ...             ...   \n",
       "1254238   172.226.114.69  2024-09-05 11:04:49     5575612316           srw38   \n",
       "1254239  208.115.224.233  2024-09-29 06:41:18     5575532731    katzenklo_16   \n",
       "1254240   138.199.29.213  2024-10-09 03:15:37     5575319207        guyver13   \n",
       "1254241  172.225.240.192  2024-10-27 03:30:27     5575376664      winde_-129   \n",
       "1254242   172.226.114.83  2024-11-03 04:57:09     5575791307       monika_pl   \n",
       "\n",
       "         fraud_cluster  is_fraud  \n",
       "12                   1         1  \n",
       "14                   1         1  \n",
       "20                   1         1  \n",
       "21                   1         1  \n",
       "22                   1         1  \n",
       "...                ...       ...  \n",
       "1254238              1         1  \n",
       "1254239              1         1  \n",
       "1254240              1         1  \n",
       "1254241              1         1  \n",
       "1254242              1         1  \n",
       "\n",
       "[522054 rows x 6 columns]"
      ]
     },
     "execution_count": 14,
     "metadata": {},
     "output_type": "execute_result"
    }
   ],
   "source": [
    "is_fraud_df"
   ]
  },
  {
   "cell_type": "code",
   "execution_count": null,
   "metadata": {},
   "outputs": [],
   "source": []
  }
 ],
 "metadata": {
  "kernelspec": {
   "display_name": "env",
   "language": "python",
   "name": "python3"
  },
  "language_info": {
   "codemirror_mode": {
    "name": "ipython",
    "version": 3
   },
   "file_extension": ".py",
   "mimetype": "text/x-python",
   "name": "python",
   "nbconvert_exporter": "python",
   "pygments_lexer": "ipython3",
   "version": "3.12.6"
  }
 },
 "nbformat": 4,
 "nbformat_minor": 2
}
